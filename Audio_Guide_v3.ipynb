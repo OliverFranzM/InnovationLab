{
 "cells": [
  {
   "cell_type": "markdown",
   "metadata": {},
   "source": [
    "# 1. Documentation\n",
    "\n",
    "## Version 1:\n",
    "- Program base (voice activation and audio response)\n",
    "- Integration intents\n",
    "\n",
    "## Version 2:\n",
    "- Added imdb functions\n",
    "- Refactoring\n",
    "\n",
    "## Version 3:\n",
    "- Made the program run in an infinite loop that can only be interrupted manually\n",
    "- Refactoring"
   ]
  },
  {
   "cell_type": "markdown",
   "metadata": {},
   "source": [
    "## Libraries\n",
    "\n",
    "- SpeechRecognition: to recognize audio input\n",
    "- PyAudio: for audio I/O\n",
    "- Requests: to send http requests\n",
    "- Playsound: to play audio files (not necessary)\n",
    "- gTTS: for voice recognition and audio response on the robot's side\n",
    "- IMDbPy: for imdb search queries\n",
    "- json: to parse json files"
   ]
  },
  {
   "cell_type": "code",
   "execution_count": null,
   "metadata": {
    "pycharm": {
     "name": "#%%\n"
    }
   },
   "outputs": [],
   "source": [
    "import speech_recognition as sr\n",
    "from IPython.display import *\n",
    "from gtts import gTTS\n",
    "import os\n",
    "from playsound import playsound\n",
    "import datetime\n",
    "from datetime import date\n",
    "import webbrowser\n",
    "import time\n",
    "import json\n",
    "import requests\n",
    "import imdb\n",
    "import random\n",
    "import urllib3"
   ]
  },
  {
   "cell_type": "code",
   "execution_count": null,
   "metadata": {
    "pycharm": {
     "name": "#%%\n"
    }
   },
   "outputs": [],
   "source": [
    "urllib3.disable_warnings()\n",
    "\n",
    "# Removing mp3 files if they exist (they will be generated as needed)\n",
    "if os.path.isfile('ready.mp3'):\n",
    "    os.remove(\"ready.mp3\")\n",
    "\n",
    "if os.path.isfile('response.mp3'):\n",
    "    os.remove(\"response.mp3\")\n",
    "    \n",
    "if os.path.isfile('hello.mp3'):\n",
    "    os.remove(\"hello.mp3\")\n",
    "\n",
    "# Setting a helper variable so the program can run infinitely (until someone force quits)\n",
    "running = True\n",
    "\n",
    "# True if debug messages should be printed\n",
    "debug_mode = True"
   ]
  },
  {
   "cell_type": "markdown",
   "metadata": {},
   "source": [
    "# 2. Functions"
   ]
  },
  {
   "cell_type": "markdown",
   "metadata": {},
   "source": [
    "### Basic functions"
   ]
  },
  {
   "cell_type": "code",
   "execution_count": null,
   "metadata": {
    "pycharm": {
     "name": "#%%\n"
    }
   },
   "outputs": [],
   "source": [
    "def error_message():\n",
    "    tts = gTTS(text='Ich habe Sie nicht richtig verstanden. Beginnen wir noch mal von vorne.', lang='de')\n",
    "    \n",
    "    # Check if the file already exists, if so just play it (if not save it and then play it)\n",
    "    if os.path.isfile('error.mp3'):\n",
    "        playsound(\"error.mp3\")\n",
    "    else:\n",
    "        tts.save(\"error.mp3\")\n",
    "        playsound(\"error.mp3\")\n",
    "    \n",
    "    print(\"ERROR: Ihr Audio-Guide ist verwirrt!\")"
   ]
  },
  {
   "cell_type": "code",
   "execution_count": null,
   "metadata": {
    "pycharm": {
     "name": "#%%\n"
    }
   },
   "outputs": [],
   "source": [
    "def welcome():\n",
    "    tts = gTTS(text='Herzlich willkommen! Mein Name ist Alex und ich bin Ihr Audio-Guide. In kürze können Sie sich über die jeweiligen Stationen informieren.', lang='de')\n",
    "    \n",
    "    # Check if the file already exists, if so just play it (if not save it and then play it)\n",
    "    if os.path.isfile('hello.mp3'):\n",
    "        playsound(\"hello.mp3\")\n",
    "    else:\n",
    "        tts.save(\"hello.mp3\")\n",
    "        playsound(\"hello.mp3\")"
   ]
  },
  {
   "cell_type": "code",
   "execution_count": null,
   "metadata": {
    "pycharm": {
     "name": "#%%\n"
    }
   },
   "outputs": [],
   "source": [
    "def ready():\n",
    "    tts = gTTS(text='Wie kann ich Ihnen behilflich sein?', lang='de')\n",
    "    \n",
    "    # Check if the file already exists, if so just play it (if not save it and then play it)\n",
    "    if os.path.isfile('ready.mp3'):\n",
    "        playsound(\"ready.mp3\")\n",
    "    else:\n",
    "        tts.save(\"ready.mp3\")\n",
    "        playsound(\"ready.mp3\")"
   ]
  },
  {
   "cell_type": "markdown",
   "metadata": {},
   "source": [
    "### IMDb functions\n",
    "The functions that are called when the user wants to learn something about movies"
   ]
  },
  {
   "cell_type": "code",
   "execution_count": null,
   "metadata": {
    "pycharm": {
     "name": "#%%\n"
    }
   },
   "outputs": [],
   "source": [
    "#############################################################\n",
    "# Function for getting informations about a specific movie. #\n",
    "#############################################################\n",
    "\n",
    "def imdb_search(this_movie):\n",
    "    print(\"\\nSuche nach Film: {}\".format(this_movie))\n",
    "    \n",
    "    # Looking for the movie with the given title (Problem: If there are multiple movies with the same title it, picks the first one.)\n",
    "    i_movie = imdb.IMDb()\n",
    "    movies = i_movie.search_movie(this_movie)\n",
    "    movie = i_movie.get_movie(movies[0].movieID)\n",
    "    \n",
    "    print(\"Ich habe folgenden Film gefunden: {}\\n\".format(movies[0]))\n",
    "    response = \"Ich habe den Film \" + str(movies[0]) + \" gefunden.\"\n",
    "    tts = gTTS(response, lang='de')\n",
    "     \n",
    "    if debug_mode == True:\n",
    "        print(\"DEBUG 12: Deleting previous responses in imdb_search\")\n",
    "        \n",
    "    if os.path.isfile('response.mp3'):\n",
    "        os.remove(\"response.mp3\")\n",
    "\n",
    "    tts.save(\"response.mp3\")\n",
    "    playsound(\"response.mp3\")\n",
    "    \n",
    "    try:\n",
    "        print(\"\\nGenres:\\n\")\n",
    "        for genre in movie['genres']:\n",
    "            print(genre)\n",
    "    except KeyError:\n",
    "        print(\"\\nKein Genre bekannt.\")\n",
    "    \n",
    "    try:\n",
    "        # Print the plot summary\n",
    "        print(\"\\nHandlung:\\n{}\".format(movie['plot'][0]))\n",
    "    except KeyError:\n",
    "        print(\"\\nKeine Handlung bekannt.\")\n",
    "    \n",
    "    try:\n",
    "        # Print the cast members\n",
    "        print(\"\\nSchauspieler:\\n\")\n",
    "        for actor in movie['cast'][:5]: #looks at the first five actors\n",
    "            print(\"{0} as {1}\".format(actor['name'], actor.currentRole))\n",
    "    except KeyError:\n",
    "        print(\"\\nKeine Schauspieler bekannt.\")\n",
    "    \n",
    "    try:\n",
    "        # Print the director(s)\n",
    "        if movie['directors'] is not None:\n",
    "            print(\"\\nRegisseur: {}\\n\".format(movie['director'][0]))\n",
    "    except KeyError:\n",
    "        print(\"\\nKein Regisseur bekannt.\")\n",
    "\n",
    "    try:\n",
    "        # Print the release date\n",
    "        print(\"\\nErscheinungsdatum: {}\\n\".format(movie['original air date']))\n",
    "    except KeyError:\n",
    "        print(\"\\nErscheinungstermin unbekannt.\")\n",
    "\n",
    "###############################################################\n",
    "# Function for looking for the top 10 movies in a specific genre. #\n",
    "###############################################################\n",
    "\n",
    "def imdb_genre(this_genre):\n",
    "\n",
    "    print(\"\\nIch suche nach Filmen mit Genre '{}'. (Das kann etwas dauern)\".format(this_genre))\n",
    "    response = \"Ich suche nach Filmen mit Genre \" + str(this_genre)\n",
    "    tts = gTTS(response, lang='de')\n",
    "        \n",
    "    if debug_mode == True:\n",
    "        print(\"DEBUG 12: Deleting previous responses in imdb_genre\")\n",
    "        \n",
    "    if os.path.isfile('response.mp3'):\n",
    "        os.remove(\"response.mp3\")\n",
    "\n",
    "    tts.save(\"response.mp3\")\n",
    "    playsound(\"response.mp3\")\n",
    "    \n",
    "    # Getting a list of the top 250 movies (This number is the only option with the IMDb python library.)\n",
    "    i_movie = imdb.IMDb()\n",
    "    movielist = i_movie.get_top250_movies()\n",
    "    count = 0\n",
    "    listed_movies = []\n",
    "    while count < 10: \n",
    "        \n",
    "        # Searching for a new random number\n",
    "        while True:\n",
    "            ranking = random.randint(0, 249)\n",
    "            if ranking not in listed_movies:\n",
    "                listed_movies.append(ranking)\n",
    "                break\n",
    "        \n",
    "        movie = i_movie.get_movie(movielist[ranking].movieID)\n",
    "        for genre in movie['genres']:\n",
    "            # Checking if the first genre matches the genre the user was looking for\n",
    "            if genre.lower() == this_genre:\n",
    "                count += 1\n",
    "                print(\"{0}. {1}\".format(count, movie['title']))\n",
    "                \n",
    "                tts = gTTS(movie['title'], lang='de')\n",
    "                \n",
    "                if debug_mode == True:\n",
    "                    print(\"DEBUG 13: Deleting previous responses in imdb_genre\")\n",
    "                    \n",
    "                if os.path.isfile('response.mp3'):\n",
    "                    os.remove(\"response.mp3\")\n",
    "\n",
    "                tts.save(\"response.mp3\")\n",
    "                playsound(\"response.mp3\")\n",
    "                \n",
    "    print(\"Das sollte fürs erste genügen :)\")"
   ]
  },
  {
   "cell_type": "markdown",
   "metadata": {},
   "source": [
    "### Intent pool\n",
    "The program looks at the json file to check if a voice command fits the programs intents"
   ]
  },
  {
   "cell_type": "code",
   "execution_count": null,
   "metadata": {
    "pycharm": {
     "name": "#%%\n"
    }
   },
   "outputs": [],
   "source": [
    "################################################################################################################\n",
    "# After receiving a request the program looks through its intent file and matches the request with a response. #\n",
    "################################################################################################################\n",
    "\n",
    "def intents(req):\n",
    "    if debug_mode == True:\n",
    "        print(\"DEBUG 6: In intents function\")\n",
    "        print(\"DEBUG 7: Deleting previous responses\")\n",
    "    \n",
    "    if os.path.isfile('response.mp3'):\n",
    "        os.remove(\"response.mp3\")\n",
    "        \n",
    "    # open json file\n",
    "    with open('intents.json') as json_file:\n",
    "        # Loading the intent json file\n",
    "        data = json.load(json_file)\n",
    "\n",
    "        if debug_mode == True:\n",
    "            print(\"DEBUG 8: Looking through intents in the json file\")\n",
    "        \n",
    "        # Going through all the intents until a match is found\n",
    "        for i in data['intents']:\n",
    "            # Finding the right request\n",
    "            for p in i['patterns']:\n",
    "                if req == p.lower():\n",
    "                    if debug_mode == True:\n",
    "                        print(\"DEBUG 9: Request matches intent. Looking for response\")\n",
    "                    \n",
    "                    # Picking a randomized response for that request\n",
    "                    index = random.randint(0, len(i['responses'])-1)\n",
    "                    \n",
    "                    if debug_mode == True:\n",
    "                        print(\"DEBUG 10: Found a response. About to send it to tts\")\n",
    "                    \n",
    "                    response = i['responses'][index]\n",
    "                    tts = gTTS(response, lang='de')\n",
    "                    \n",
    "                    if debug_mode == True:\n",
    "                        print(\"DEBUG 11: This is the response i should give the user\")\n",
    "                        print(response)\n",
    "                    \n",
    "                    # Saving the response as an mp3 file and playing it\n",
    "                    tts.save(\"response.mp3\")\n",
    "                    playsound(\"response.mp3\")\n",
    "                    \n",
    "                    # If the user is looking for a movie/genre another input is needed\n",
    "                    if i['tag'] == \"imdb_search\":\n",
    "                        request = mic_recognition(rec, mic)\n",
    "                        if request['error'] is None:\n",
    "                            imdb_search(request['response_trans'].lower())\n",
    "                    elif i['tag'] == \"imdb_genre\":\n",
    "                        request = mic_recognition(rec, mic)\n",
    "                        if request['error'] is None:\n",
    "                            imdb_genre(request['response_trans'].lower())\n",
    "                    # If the user wishes to exit the program\n",
    "                    elif i['tag'] == \"bye\":\n",
    "                        \n",
    "                        if debug_mode == True:\n",
    "                            print(\"DEBUG 12: Deleting previous responses in intents\")\n",
    "                            \n",
    "                        if os.path.isfile('response.mp3'):\n",
    "                            os.remove(\"response.mp3\")\n",
    "                        \n",
    "                        return True\n",
    "                    return False\n",
    "        \n",
    "        # If the request does not match an intent the user has to repeat their query\n",
    "        print(\"Error: I understood '{}'\".format(req))\n",
    "        tts = gTTS('Verzeihung, aber ich verstehe Ihre Anfrage nicht. Probieren wir es nochmals von Anfang an!', lang='de')\n",
    "         \n",
    "        if debug_mode == True:\n",
    "            print(\"DEBUG 13: Deleting previous responses at the end of intents\")\n",
    "            \n",
    "        if os.path.isfile('response.mp3'):\n",
    "            os.remove(\"response.mp3\")\n",
    "                        \n",
    "        tts.save(\"response.mp3\")\n",
    "        playsound(\"response.mp3\")\n",
    "        \n",
    "        return False\n",
    "\n",
    "        "
   ]
  },
  {
   "cell_type": "markdown",
   "metadata": {},
   "source": [
    "# 3. Speech recognition"
   ]
  },
  {
   "cell_type": "markdown",
   "metadata": {},
   "source": [
    "### Audio/input parser\n",
    "Record audio and send it to Google's API to parse/\"translate\""
   ]
  },
  {
   "cell_type": "code",
   "execution_count": null,
   "metadata": {
    "pycharm": {
     "name": "#%%\n"
    }
   },
   "outputs": [],
   "source": [
    "#################################################################################################################\n",
    "# Here the program makes a recognizer query and checks for different errors and returns a response accordingly. #\n",
    "#################################################################################################################\n",
    "\n",
    "def mic_recognition(recognizer, microphone):\n",
    "    if not isinstance(recognizer, sr.Recognizer):\n",
    "        raise TypeError(\"`recognizer` must be `Recognizer` instance\")\n",
    "\n",
    "    if not isinstance(microphone, sr.Microphone):\n",
    "        raise TypeError(\"`microphone` must be `Microphone` instance\")\n",
    "        \n",
    "    response = {\n",
    "      \"response_trans\": None,\n",
    "      \"error\": None\n",
    "    }\n",
    "    with microphone as source:\n",
    "        recognizer.adjust_for_ambient_noise(source, duration=0.5)\n",
    "        audio_recorded = recognizer.listen(source)\n",
    "    try:\n",
    "        response[\"response_trans\"] = recognizer.recognize_google(audio_recorded, language = \"de-DE\")\n",
    "    except sr.RequestError:\n",
    "        #API was unreachable or unresponsive\n",
    "        response[\"error\"] = \"ERROR: Die API ist nicht verfügbar.\"\n",
    "    except sr.UnknownValueError:\n",
    "        #speech was unintelligible\n",
    "        response[\"error\"] = \"ERROR: Der Audio-Guide konnte den Sprach-Input nicht verstehen.\"\n",
    "        \n",
    "    return response"
   ]
  },
  {
   "cell_type": "markdown",
   "metadata": {},
   "source": [
    "### Speech recognition\n",
    "Immediate interaction with the robot takes place here. The program takes the received input and checks if said input can be found in its intent pool"
   ]
  },
  {
   "cell_type": "code",
   "execution_count": null,
   "metadata": {
    "pycharm": {
     "name": "#%%\n"
    }
   },
   "outputs": [],
   "source": [
    "##########################################################################################################\n",
    "# This is where the user interaction takes place. The program welcomes the user and waits for a request. #\n",
    "##########################################################################################################\n",
    "\n",
    "def activate_speechrec():\n",
    "    if debug_mode == True:\n",
    "        print(\"DEBUG 3: In activate_speechrec. Sending welcome message.\")\n",
    "    \n",
    "    welcome()\n",
    "    \n",
    "    while True:\n",
    "        ready()\n",
    "        \n",
    "        if debug_mode == True:\n",
    "            print(\"DEBUG 4: In activate_speechrec while loop. Ready for request.\")\n",
    "        \n",
    "        request = mic_recognition(rec, mic)\n",
    "        \n",
    "        # If the program recognizes a voice it enters the intents function to look for a proper response\n",
    "        if request[\"error\"] is None:\n",
    "            \n",
    "            if debug_mode == True:\n",
    "                print(\"DEBUG 5: Got a request. Going into intents function.\")\n",
    "            \n",
    "            stop = intents(request[\"response_trans\"].lower())\n",
    "            if stop == True:\n",
    "                break\n",
    "        else:\n",
    "            print(request[\"error\"])\n",
    "            error_message()"
   ]
  },
  {
   "cell_type": "markdown",
   "metadata": {},
   "source": [
    "### Voice activation\n",
    "Activating robot interaction starts with the phrase \"hallo alex\""
   ]
  },
  {
   "cell_type": "code",
   "execution_count": null,
   "metadata": {
    "pycharm": {
     "name": "#%%\n"
    }
   },
   "outputs": [],
   "source": [
    "#############################################################\n",
    "# This is where the chat bot starts listening for any input #\n",
    "#############################################################\n",
    "\n",
    "def program():\n",
    "    # Setting the keyword and other helper variables to keep the program running\n",
    "    keyword = \"hallo alex\"\n",
    "    success = False\n",
    "    running = True\n",
    "\n",
    "    # Initializing recognizer instance and a microphone as a source\n",
    "    rec = sr.Recognizer()\n",
    "    mic = sr.Microphone()\n",
    "    \n",
    "    # Program listens for the keyword to start an interaction with the user\n",
    "    while running:\n",
    "        print(\"Ich bin bereit ...\")\n",
    "        request = mic_recognition(rec, mic)\n",
    "\n",
    "        # Check if the voice input has been recognized\n",
    "        if request[\"error\"] is None:\n",
    "            if request[\"response_trans\"].lower() == keyword:\n",
    "                success = True\n",
    "                \n",
    "                if debug_mode == True:\n",
    "                    print(\"DEBUG 1: Recognized keyword\")\n",
    "                \n",
    "                break\n",
    "            else:\n",
    "                print(\"ERROR: I understood: {}\".format(request[\"response_trans\"].lower()))\n",
    "\n",
    "    # Now that the keyword has been recognized (or not) the user interaction begins\n",
    "    if success is True and running is True:\n",
    "        \n",
    "        if debug_mode == True:\n",
    "            print(\"DEBUG 2: Entering activate_speechrec function\")\n",
    "        \n",
    "        activate_speechrec()\n",
    "    \n",
    "    else:\n",
    "        print(request[\"error\"])\n",
    "        error_message()\n",
    "\n",
    "        \n",
    "############################################################\n",
    "# This keeps the program running until someone force quits #\n",
    "############################################################\n",
    "\n",
    "while running:\n",
    "    program()"
   ]
  }
 ],
 "metadata": {
  "anaconda-cloud": {},
  "kernelspec": {
   "display_name": "Python 3",
   "language": "python",
   "name": "python3"
  },
  "language_info": {
   "codemirror_mode": {
    "name": "ipython",
    "version": 3
   },
   "file_extension": ".py",
   "mimetype": "text/x-python",
   "name": "python",
   "nbconvert_exporter": "python",
   "pygments_lexer": "ipython3",
   "version": "3.7.3"
  },
  "pycharm": {
   "stem_cell": {
    "cell_type": "raw",
    "metadata": {
     "collapsed": false
    },
    "source": []
   }
  }
 },
 "nbformat": 4,
 "nbformat_minor": 1
}
