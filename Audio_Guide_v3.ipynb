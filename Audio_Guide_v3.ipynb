{
 "cells": [
  {
   "cell_type": "markdown",
   "metadata": {},
   "source": [
    "# 1. Documentation\n",
    "\n",
    "## Version 1:\n",
    "- Program base (voice activation and audio response)\n",
    "- Integration intents\n",
    "\n",
    "## Version 2:\n",
    "- Added imdb functions\n",
    "- Refactoring\n",
    "\n",
    "## Version 3:\n",
    "- Made the program run in an infinite loop that can only be interrupted manually\n",
    "- Refactoring"
   ]
  },
  {
   "cell_type": "markdown",
   "metadata": {},
   "source": [
    "## Libraries\n",
    "\n",
    "- SpeechRecognition: to recognize audio input\n",
    "- PyAudio: for audio I/O\n",
    "- Requests: to send http requests\n",
    "- Playsound: to play audio files (not necessary)\n",
    "- gTTS: for voice recognition and audio response on the robot's side\n",
    "- IMDbPy: for imdb search queries\n",
    "- json: to parse json files"
   ]
  },
  {
   "cell_type": "code",
   "execution_count": 31,
   "metadata": {
    "pycharm": {
     "name": "#%%\n"
    }
   },
   "outputs": [],
   "source": [
    "import speech_recognition as sr\n",
    "from IPython.display import *\n",
    "from gtts import gTTS\n",
    "import os\n",
    "from playsound import playsound\n",
    "import datetime\n",
    "from datetime import date\n",
    "import webbrowser\n",
    "import time\n",
    "import json\n",
    "import requests\n",
    "import imdb\n",
    "import random\n",
    "import urllib3"
   ]
  },
  {
   "cell_type": "code",
   "execution_count": 32,
   "metadata": {
    "pycharm": {
     "name": "#%%\n"
    }
   },
   "outputs": [],
   "source": [
    "urllib3.disable_warnings()\n",
    "\n",
    "# Removing mp3 files if they exist (they will be generated as needed)\n",
    "if os.path.isfile('ready.mp3'):\n",
    "    os.remove(\"ready.mp3\")\n",
    "\n",
    "if os.path.isfile('response.mp3'):\n",
    "    os.remove(\"response.mp3\")\n",
    "    \n",
    "if os.path.isfile('hello.mp3'):\n",
    "    os.remove(\"hello.mp3\")\n",
    "\n",
    "# Setting a helper variable so the program can run infinitely (until someone force quits)\n",
    "running = True\n",
    "\n",
    "# True if debug messages should be printed\n",
    "debug_mode = True\n",
    "\n",
    "# Initializing recognizer instance and a microphone as a source\n",
    "rec = sr.Recognizer()\n",
    "mic = sr.Microphone()"
   ]
  },
  {
   "cell_type": "markdown",
   "metadata": {},
   "source": [
    "# 2. Functions"
   ]
  },
  {
   "cell_type": "markdown",
   "metadata": {},
   "source": [
    "### Basic functions"
   ]
  },
  {
   "cell_type": "code",
   "execution_count": 33,
   "metadata": {
    "pycharm": {
     "name": "#%%\n"
    }
   },
   "outputs": [],
   "source": [
    "def error_message():\n",
    "    tts = gTTS(text='Ich habe Sie nicht richtig verstanden. Beginnen wir noch mal von vorne.', lang='de')\n",
    "    \n",
    "    # Check if the file already exists, if so just play it (if not save it and then play it)\n",
    "    if os.path.isfile('error.mp3'):\n",
    "        playsound(\"error.mp3\")\n",
    "    else:\n",
    "        tts.save(\"error.mp3\")\n",
    "        playsound(\"error.mp3\")\n",
    "    \n",
    "    print(\"ERROR: Ihr Audio-Guide ist verwirrt!\")"
   ]
  },
  {
   "cell_type": "code",
   "execution_count": 34,
   "metadata": {
    "pycharm": {
     "name": "#%%\n"
    }
   },
   "outputs": [],
   "source": [
    "def welcome():\n",
    "    tts = gTTS(text='Herzlich willkommen! Mein Name ist Alex und ich bin Ihr Audio-Guide. In kürze können Sie sich über die jeweiligen Stationen informieren.', lang='de')\n",
    "    \n",
    "    # Check if the file already exists, if so just play it (if not save it and then play it)\n",
    "    if os.path.isfile('hello.mp3'):\n",
    "        playsound(\"hello.mp3\")\n",
    "    else:\n",
    "        tts.save(\"hello.mp3\")\n",
    "        playsound(\"hello.mp3\")"
   ]
  },
  {
   "cell_type": "code",
   "execution_count": 35,
   "metadata": {
    "pycharm": {
     "name": "#%%\n"
    }
   },
   "outputs": [],
   "source": [
    "def ready():\n",
    "    tts = gTTS(text='Wie kann ich Ihnen behilflich sein?', lang='de')\n",
    "    \n",
    "    # Check if the file already exists, if so just play it (if not save it and then play it)\n",
    "    if os.path.isfile('ready.mp3'):\n",
    "        playsound(\"ready.mp3\")\n",
    "    else:\n",
    "        tts.save(\"ready.mp3\")\n",
    "        playsound(\"ready.mp3\")"
   ]
  },
  {
   "cell_type": "markdown",
   "metadata": {},
   "source": [
    "### IMDb functions\n",
    "The functions that are called when the user wants to learn something about movies"
   ]
  },
  {
   "cell_type": "code",
   "execution_count": 36,
   "metadata": {
    "pycharm": {
     "name": "#%%\n"
    }
   },
   "outputs": [],
   "source": [
    "#############################################################\n",
    "# Function for getting informations about a specific movie. #\n",
    "#############################################################\n",
    "\n",
    "def imdb_search(this_movie):\n",
    "    print(\"\\nSuche nach Film: {}\".format(this_movie))\n",
    "    \n",
    "    # Looking for the movie with the given title (Problem: If there are multiple movies with the same title, it picks the first one.)\n",
    "    i_movie = imdb.IMDb()\n",
    "    movies = i_movie.search_movie(this_movie)\n",
    "    movie = i_movie.get_movie(movies[0].movieID)\n",
    "    \n",
    "    print(\"Ich habe folgenden Film gefunden: {}\\n\".format(movies[0]))\n",
    "    response = \"Ich habe den Film \" + str(movies[0]) + \" gefunden.\"\n",
    "    tts = gTTS(response, lang='de')\n",
    "     \n",
    "    if debug_mode == True:\n",
    "        print(\"DEBUG 12: Deleting previous responses in imdb_search\")\n",
    "        \n",
    "    if os.path.isfile('response.mp3'):\n",
    "        os.remove(\"response.mp3\")\n",
    "\n",
    "    tts.save(\"response.mp3\")\n",
    "    playsound(\"response.mp3\")\n",
    "    \n",
    "    try:\n",
    "        print(\"\\nGenres:\\n\")\n",
    "        for genre in movie['genres']:\n",
    "            print(genre)\n",
    "    except KeyError:\n",
    "        print(\"\\nKein Genre bekannt.\")\n",
    "    \n",
    "    try:\n",
    "        # Print the plot summary\n",
    "        print(\"\\nHandlung:\\n{}\".format(movie['plot'][0]))\n",
    "    except KeyError:\n",
    "        print(\"\\nKeine Handlung bekannt.\")\n",
    "    \n",
    "    try:\n",
    "        # Print the cast members\n",
    "        print(\"\\nSchauspieler:\\n\")\n",
    "        for actor in movie['cast'][:5]: #looks at the first five actors\n",
    "            print(\"{0} as {1}\".format(actor['name'], actor.currentRole))\n",
    "    except KeyError:\n",
    "        print(\"\\nKeine Schauspieler bekannt.\")\n",
    "    \n",
    "    try:\n",
    "        # Print the director(s)\n",
    "        if movie['directors'] is not None:\n",
    "            print(\"\\nRegisseur: {}\\n\".format(movie['director'][0]))\n",
    "    except KeyError:\n",
    "        print(\"\\nKein Regisseur bekannt.\")\n",
    "\n",
    "    try:\n",
    "        # Print the release date\n",
    "        print(\"\\nErscheinungsdatum: {}\\n\".format(movie['original air date']))\n",
    "    except KeyError:\n",
    "        print(\"\\nErscheinungstermin unbekannt.\")\n",
    "\n",
    "###############################################################\n",
    "# Function for looking for the top 10 movies in a specific genre. #\n",
    "###############################################################\n",
    "\n",
    "def imdb_genre(this_genre):\n",
    "\n",
    "    print(\"\\nIch suche nach Filmen mit Genre '{}'. (Das kann etwas dauern)\".format(this_genre))\n",
    "    response = \"Ich suche nach Filmen mit Genre \" + str(this_genre)\n",
    "    tts = gTTS(response, lang='de')\n",
    "        \n",
    "    if debug_mode == True:\n",
    "        print(\"DEBUG 12: Deleting previous responses in imdb_genre\")\n",
    "        \n",
    "    if os.path.isfile('response.mp3'):\n",
    "        os.remove(\"response.mp3\")\n",
    "\n",
    "    tts.save(\"response.mp3\")\n",
    "    playsound(\"response.mp3\")\n",
    "    \n",
    "    # Getting a list of the top 250 movies (This number is the only option with the IMDb python library.)\n",
    "    i_movie = imdb.IMDb()\n",
    "    movielist = i_movie.get_top250_movies()\n",
    "    count = 0\n",
    "    listed_movies = []\n",
    "    while count < 10: \n",
    "        \n",
    "        # Searching for a new random number\n",
    "        while True:\n",
    "            ranking = random.randint(0, 249)\n",
    "            if ranking not in listed_movies:\n",
    "                listed_movies.append(ranking)\n",
    "                break\n",
    "        \n",
    "        movie = i_movie.get_movie(movielist[ranking].movieID)\n",
    "        for genre in movie['genres']:\n",
    "            # Checking if the first genre matches the genre the user was looking for\n",
    "            if genre.lower() == this_genre:\n",
    "                count += 1\n",
    "                print(\"{0}. {1}\".format(count, movie['title']))\n",
    "                \n",
    "                tts = gTTS(movie['title'], lang='de')\n",
    "                \n",
    "                if debug_mode == True:\n",
    "                    print(\"DEBUG 13: Deleting previous responses in imdb_genre\")\n",
    "                    \n",
    "                if os.path.isfile('response.mp3'):\n",
    "                    os.remove(\"response.mp3\")\n",
    "\n",
    "                tts.save(\"response.mp3\")\n",
    "                playsound(\"response.mp3\")\n",
    "                \n",
    "    print(\"Das sollte fürs erste genügen :)\")"
   ]
  },
  {
   "cell_type": "markdown",
   "metadata": {},
   "source": [
    "### Intent pool\n",
    "The program looks at the json file to check if a voice command fits the programs intents"
   ]
  },
  {
   "cell_type": "code",
   "execution_count": 37,
   "metadata": {
    "pycharm": {
     "name": "#%%\n"
    }
   },
   "outputs": [],
   "source": [
    "################################################################################################################\n",
    "# After receiving a request the program looks through its intent file and matches the request with a response. #\n",
    "################################################################################################################\n",
    "\n",
    "def intents(req):\n",
    "    if debug_mode == True:\n",
    "        print(\"DEBUG 6: In intents function\")\n",
    "        print(\"DEBUG 7: Deleting previous responses\")\n",
    "    \n",
    "    if os.path.isfile('response.mp3'):\n",
    "        os.remove(\"response.mp3\")\n",
    "        \n",
    "    # open json file\n",
    "    with open('intents.json') as json_file:\n",
    "        # Loading the intent json file\n",
    "        data = json.load(json_file)\n",
    "\n",
    "        if debug_mode == True:\n",
    "            print(\"DEBUG 8: Looking through intents in the json file\")\n",
    "        \n",
    "        # Going through all the intents until a match is found\n",
    "        for i in data['intents']:\n",
    "            # Finding the right request\n",
    "            for p in i['patterns']:\n",
    "                if req == p.lower():\n",
    "                    if debug_mode == True:\n",
    "                        print(\"DEBUG 9: Request matches intent. Looking for response\")\n",
    "                    \n",
    "                    # Picking a randomized response for that request\n",
    "                    index = random.randint(0, len(i['responses'])-1)\n",
    "                    \n",
    "                    if debug_mode == True:\n",
    "                        print(\"DEBUG 10: Found a response. About to send it to tts\")\n",
    "                    \n",
    "                    response = i['responses'][index]\n",
    "                    tts = gTTS(response, lang='de')\n",
    "                    \n",
    "                    if debug_mode == True:\n",
    "                        print(\"DEBUG 11: This is the response i should give the user\")\n",
    "                        print(response)\n",
    "                    \n",
    "                    # Saving the response as an mp3 file and playing it\n",
    "                    tts.save(\"response.mp3\")\n",
    "                    playsound(\"response.mp3\")\n",
    "                    \n",
    "                    # If the user is looking for a movie/genre another input is needed\n",
    "                    if i['tag'] == \"imdb_search\":\n",
    "                        request = mic_recognition(rec, mic)\n",
    "                        if request['error'] is None:\n",
    "                            imdb_search(request['response_trans'].lower())\n",
    "                    elif i['tag'] == \"imdb_genre\":\n",
    "                        request = mic_recognition(rec, mic)\n",
    "                        if request['error'] is None:\n",
    "                            imdb_genre(request['response_trans'].lower())\n",
    "                    # If the user wishes to exit the program\n",
    "                    elif i['tag'] == \"bye\":\n",
    "                        \n",
    "                        if debug_mode == True:\n",
    "                            print(\"DEBUG 12: Deleting previous responses in intents\")\n",
    "                            \n",
    "                        if os.path.isfile('response.mp3'):\n",
    "                            os.remove(\"response.mp3\")\n",
    "                        \n",
    "                        return True\n",
    "                    return False\n",
    "        \n",
    "        # If the request does not match an intent the user has to repeat their query\n",
    "        print(\"Error: I understood '{}'\".format(req))\n",
    "        tts = gTTS('Verzeihung, aber ich verstehe Ihre Anfrage nicht. Probieren wir es nochmals von Anfang an!', lang='de')\n",
    "         \n",
    "        if debug_mode == True:\n",
    "            print(\"DEBUG 13: Deleting previous responses at the end of intents\")\n",
    "            \n",
    "        if os.path.isfile('response.mp3'):\n",
    "            os.remove(\"response.mp3\")\n",
    "                        \n",
    "        tts.save(\"response.mp3\")\n",
    "        playsound(\"response.mp3\")\n",
    "        \n",
    "        return False\n",
    "\n",
    "        "
   ]
  },
  {
   "cell_type": "markdown",
   "metadata": {},
   "source": [
    "# 3. Speech recognition"
   ]
  },
  {
   "cell_type": "markdown",
   "metadata": {},
   "source": [
    "### Audio/input parser\n",
    "Record audio and send it to Google's API to parse/\"translate\""
   ]
  },
  {
   "cell_type": "code",
   "execution_count": 38,
   "metadata": {
    "pycharm": {
     "name": "#%%\n"
    }
   },
   "outputs": [],
   "source": [
    "#################################################################################################################\n",
    "# Here the program makes a recognizer query and checks for different errors and returns a response accordingly. #\n",
    "#################################################################################################################\n",
    "\n",
    "def mic_recognition(recognizer, microphone):\n",
    "    if not isinstance(recognizer, sr.Recognizer):\n",
    "        raise TypeError(\"`recognizer` must be `Recognizer` instance\")\n",
    "\n",
    "    if not isinstance(microphone, sr.Microphone):\n",
    "        raise TypeError(\"`microphone` must be `Microphone` instance\")\n",
    "        \n",
    "    response = {\n",
    "      \"response_trans\": None,\n",
    "      \"error\": None\n",
    "    }\n",
    "    with microphone as source:\n",
    "        recognizer.adjust_for_ambient_noise(source, duration=0.5)\n",
    "        audio_recorded = recognizer.listen(source)\n",
    "    try:\n",
    "        response[\"response_trans\"] = recognizer.recognize_google(audio_recorded, language = \"de-DE\")\n",
    "    except sr.RequestError:\n",
    "        #API was unreachable or unresponsive\n",
    "        response[\"error\"] = \"ERROR: Die API ist nicht verfügbar.\"\n",
    "    except sr.UnknownValueError:\n",
    "        #speech was unintelligible\n",
    "        response[\"error\"] = \"ERROR: Der Audio-Guide konnte den Sprach-Input nicht verstehen.\"\n",
    "        \n",
    "    return response"
   ]
  },
  {
   "cell_type": "markdown",
   "metadata": {},
   "source": [
    "### Speech recognition\n",
    "Immediate interaction with the robot takes place here. The program takes the received input and checks if said input can be found in its intent pool"
   ]
  },
  {
   "cell_type": "code",
   "execution_count": 39,
   "metadata": {
    "pycharm": {
     "name": "#%%\n"
    }
   },
   "outputs": [],
   "source": [
    "##########################################################################################################\n",
    "# This is where the user interaction takes place. The program welcomes the user and waits for a request. #\n",
    "##########################################################################################################\n",
    "\n",
    "def activate_speechrec():\n",
    "    if debug_mode == True:\n",
    "        print(\"DEBUG 3: In activate_speechrec. Sending welcome message.\")\n",
    "    \n",
    "    welcome()\n",
    "    \n",
    "    while True:\n",
    "        ready()\n",
    "        \n",
    "        if debug_mode == True:\n",
    "            print(\"DEBUG 4: In activate_speechrec while loop. Ready for request.\")\n",
    "        \n",
    "        request = mic_recognition(rec, mic)\n",
    "        \n",
    "        # If the program recognizes a voice it enters the intents function to look for a proper response\n",
    "        if request[\"error\"] is None:\n",
    "            \n",
    "            if debug_mode == True:\n",
    "                print(\"DEBUG 5: Got a request. Going into intents function.\")\n",
    "            \n",
    "            stop = intents(request[\"response_trans\"].lower())\n",
    "            if stop == True:\n",
    "                break\n",
    "        else:\n",
    "            print(request[\"error\"])\n",
    "            error_message()"
   ]
  },
  {
   "cell_type": "markdown",
   "metadata": {},
   "source": [
    "### Voice activation\n",
    "Activating robot interaction starts with the phrase \"hallo alex\""
   ]
  },
  {
   "cell_type": "code",
   "execution_count": 40,
   "metadata": {
    "pycharm": {
     "name": "#%%\n"
    }
   },
   "outputs": [
    {
     "name": "stdout",
     "output_type": "stream",
     "text": [
      "Ich bin bereit ...\n",
      "\n",
      "Suche nach Film: könig der löwen\n",
      "Ich habe folgenden Film gefunden: A King for Burning\n",
      "\n",
      "\n",
      "Genres:\n",
      "\n",
      "History\n",
      "\n",
      "Handlung:\n",
      "The 1530s. Many are convinced that the Day of Judgement is at hand. A protest movement is making the heart of Europe beat faster and louder: it is a protest against the dissipation of the Catholic clergy, but also against the religious remedies prescibed by Lutheranism. The Anabaptist movement preaches the second coming and prophesies that all enemies of the \"true faith\" will \"drown in rivers of blood\". All those, however, who renounce the devil are promised both earthly and heavenly happiness in a \"new Jerusalem\". When the Anabaptist doctrine overtakes the flourishing town of Münster (\"the pearl of Westphalia\") and the town's Catholics are either driven out or forced to live in a ghetto, the newly-elected Prince-Bishop of Münster and Osnabrück, Count Franz Waldeck, decides to take fiercer action against what he sees as the \"Anabaptist scourge\"; anyone who lets themselves be rebaptized in his diocese, whether male or female, is to be hanged from the nearest tree. Sebastian Kien, a vagrant travelling actor (actually quite similar in nature and temperament to François Villon) uses a mixture of cunning and deceit to save a young girl from being hanged. Since the girl, Engele Kerkerinck, has lost her entire family, Sebastian takes her under his wing, gives her the courage to carry on living, and says he will teach her how to sing and to dance. Engele, however, wants to go to Münster where the legendary Jan van Leyden, an Anabaptist, is preaching, and to whose sermons Catholics and Protestants alike - and women in particular - are flocking. Engele, too, is under the spell of this man, and mesmerised by his stature, his fire, his powerful words and his charisma. Sebastian Kien recognises an old friend in Jan van Leyden: the latter is none other than the actor and pimp Jan Bockelson, with whom he used to make the same kind of living (often a pathetic one) that he still does now. A rapturous reunion ensues. Bockelson wants his old friend to join forces with him and predicts a glorious future for himself: \"One day I'll be King of Münster!\" But resistance from those Catholics who still remain in Münster has not yet been fully overcome. The prosperous burghers still distrust the man who preaches poverty and renunciation while stashing his own coffers with money and jewellery. Bockelson overcomes a crisis of confidence in his abilities, sparked off by the town council, by asking a famous prophet known as Jan Matthys to come to the town's assistance. Sebastian Kien is given instructions to turn the prophet's arrival into an occasion of popular celebration. After an almost supernatural piece of stage direction, Bockelson succeeds in winning the hearts of the townsfolk once more, little realising that the prophet's arrival in Münster means that he is about to be inexorably caught up in a rapid succession of events. The reason for this is Divara, Jan Matthys' wife. She and Bockelson seem to recognise one another as kindred spirits from their very first meeting: both are held in the sway of a powerful mutual fascination. Divara sees the future potential of the young, beaming Bockelson, and considers him far more promising than the already ageing Jan Matthys who, plagued by self-doubt, is falling prey to alcoholism. Divara, attractive, desirable and very self-confident, uses all the weapons a woman possesses. She provokes Jan Bockelson into killing the Catholics' leader, Trutelink, and accuses her husband of weakness, urging him to practice what he preaches and to go and prove his mettle against the Prince-Bishop. Fully aware of what is going on, and in the knowledge that his days are numbered, Jan Matthys rides off into a trap carefully prepared by Tom Korteboldt, a double agent in the pay of both sides. Jan Matthys dies with a prophecy upon his lips: \"In three days' time I shall be resurrected from the dead!\" When this prophecy is not fulfilled, Jan Bockelson faces yet another crisis of confidence. At the very last moment Divara manages to stop the mayor, Knipperdolling, and the rest of the town council from accepting the Prince-Bishop's offer of negotiation in return for surrendering the town without a fight. And once again Sebastian Kien is faced with having to help his old friend out of a dilemma. Engele persuades him to do so. Sebastian stages a supernatural event - the arrival of an angel - for the credulous and astonished townspeople, and thus restores his friend's charisma. Divara makes use of the townspeople's credulity to tie things up once and for all. She ensures that Jan Bockelson, favoured by the Lord, becomes \"King of Münster\", while she herself takes over the role of Queen. Engele has long since fallen prey to her fascination for Bockelson. She is endured as the King's mistress by Divara, who sees the girl as next to no competition; indeed, she even sees her as strengthening her position. Sebastian Kien decides he wants to leave the town. His concern for Engele developed into affection, and affection has now turned into love - a very different kind of love, though, than that practised by his former friend Bockelson. Out of concern for Engele, Sebastian remains in the town - also, perhaps, because he is still hoping that she will come back to him. From now on Bockelson surrenders to his own personal whims and delights, cloaking it all in the guise of \"divine inspiration\". When Clarissa, the daughter of mayor Knipperdolling, and the last Catholic in Münster, is discovered hiding in a well-shaft, Bockelson orders her father - whom he has appointed the kingdom's chief executioner - to behead his own daughter. Bockelson's sudden decision to humiliate the intractably Catholic Clarissa still further, rather than just kill her outright, saves the girl's life. The King of Münster makes the mayor's daughter his courtesan, and shortly afterwards has polygamy and free love announced as a tenet of the Anabaptist faith. Münster celebrates this new edict with an orgy. The siege of Münster by the Prince-Bishop has now been going on for over a year. The town is riddled with disease and starvation. The townspeople scratch moss off the stones in the graveyards to fill their bellies, women scrape plaster off the frescoes in the church to make \"milk\" for their children. The cholera victims are tipped unceremoniously over the town wall. Divara is aware of the danger and she takes decisive action. She promises the town council \"help and salvation\" within three days. And, as a pledge, she promises that \"the King will burn if the prophecy is not fulfilled\". Panic-stricken, Bockelson seeks the advice and support of his friend Sebastian, whom he has thrown into prison. Yet again, it is an idea of Sebastian Kien's that allows Bockelson to extricate himself from the affair. He sees his chance in the double meaning of the verb \"to burn\". At a ceremony which the preacher Rottmann turns into a religious ceremony, Bockelson not only burns the books written by his religious rivals but also the last Catholic in Münster, Clarissa Knipperdolling, who refuses to renounce her faith. The crowd's enthusiasm is boundless. This first human sacrifice is soon to be followed by a second. Engele beseeches Bockelson in vain to spare the life of Sebastian Kien, whom Bockelson now regards as his most dangerous rival. For Kien knows the truth about Bockelson's past life - and he screams it into the face of the man who calls himself \"the messenger of the Lord\". At first, the townspeople, who have rushed enthusiastically to the Prinzipalmarkt to watch Sebastian Kien's execution, seem stunned. But then Rottmann the preacher puts on his most successful performance so far: he turns Kien's accusations upside down by treating them as proof of divine long-sightedness and mercy, and in doing so succeeds in winning the crowd's approval. And as if to prove his magnanimity and humanity, Bockelson answers Engele's prayers: he sets his friend free. Prince-Bishop Waldeck, unswerving in his faith and unbending in his desire to recapture Münster for his own, makes one final attempt to go down as magnanimous and merciful in the history books. He decides to defeat his enemies - who have used the word of God to take over the town - by the word of God too. In a magnificent display of religious pomp, he stands face to face with the \"latter-day King\", and reads him the parable of the lost sheep from the bible. Bockelson, seeing his followers already on their knees before the cross of Catholicism, manages at the very last moment to stop the Anabaptists from capitulating. Waldeck and his followers are then forced to realise just how much power Jan Bockelson has over the people of Münster: the Prince-Bishop's carefully staged entreaty is mockingly answered by a phalanx of naked Anabaptist buttocks along the town battlements. Waldeck gives the order to attack. That night, in the year 1535, Münster drowns in a sea of rain and blood. When the sun comes up again, the town is in the hands of the Prince-Bishop. Waldeck meets an enemy who shows no remorse or submissiveness. Even as a prisoner, Bockelson is condescending and full of scorn. Not one word of regret about what he has done. Bockelson senses that God is on his side - in the struggle against the corruption of the authorities. Count Waldeck and his followers prepare the punishment rite. It is to be an occasion of great magnificence: a public execution that will remain etched in popular memory for generations, demonstrating the victory of the righteous and God-fearing over all that is evil. Divara, whom Waldeck finds very attractive, turns down the Prince-Bishop's offer to make her his mistress by committing suicide. All the anger and hatred the victors have left is now concentrated on one man: Bockelson. Bockelson is interrogated, and tortured eight times - all in vain. He is unyielding, even under pain. He impresses his inquisitors by quoting Thomas Aquinas, and uttering obscene jokes dating from his days as a pimp and innkeeper at the \"Three Herrings\" in Leyden. Bockelson, Mayor Knipperdolling and Chancellor Krechting are placed in three cages and put on display in front of the curious crowd. Looking at them costs one pfennig. Touching them costs one pfennig extra. Then there is the final wordless meeting between Bockelson and Engele, who prays to God to grant him a merciful death. It is the night of the condemned Bockelson's last meal, to which he has invited his \"friend\" Sebastian: the \"latter-day King\" uses up all his actor's talents to put on a show of pride and dignity. He, Knipperdolling and Krechting are to be hung in their cages high up on the Lambertikirche, and Bockelson's last wish is to be hung higher than the other two. The execution has all the trappings of a festival, especially for those who have long since returned to their original belief. The executioners, it has been decided, will slowly torture Bockelson to death with red-hot pincers. Bockelson knows about this because Sebastian has already told him, but he has also prophesied to Sebastian that he will neither groan nor scream - though he might just hum and sing... Sebastian Kien follows the progress of the event from some distance away. He has resolved to applaud and to shout with relief as Bockelson is slowly tortured to death. He sees the glowing pincers, hears the hiss of burning flesh and then, very quietly: he hears Bockelson singing a song, one that they used to sing together in the old days. Sebastian Kien does Jan Bockelson a final service. He rushes towards the tribune, past the executioners, and stabs Bockelson twice with a knife. The first time he misses the heart, but the second time he makes no mistake. Together, on the covered wagon they arrived in, Sebastian and Engele leave the town that has kept them like prisoners for 16 months. Engele confesses to Sebastian that she is expecting a baby - Bockelson's baby. \"I'll teach him to dance and sing and write poetry\", says Sebastian. \"Can you be a comedian and sing and dance without believing in God...?\" asks Engele. Sebastian: \"You can...\" \"Why do people dance, then...?\" asks Engele - and receives no reply...::Anonymous\n",
      "\n",
      "Schauspieler:\n",
      "\n",
      "Christoph Waltz as Jan Bockelson\n",
      "Mario Adorf as Franz Graf Waldeck\n",
      "Omero Antonutti as Knipperdolling\n",
      "Vladimir Gostjukin as Trutelink\n",
      "Michael Habeck as Tusendschur\n",
      "\n",
      "Kein Regisseur bekannt.\n",
      "\n",
      "Erscheinungsdatum: 17 Nov 1993 (Germany)\n",
      "\n"
     ]
    },
    {
     "name": "stdout",
     "output_type": "stream",
     "text": [
      "Error: I understood 'suche mir nach einem film'\n",
      "\n",
      "Suche nach Film: inception\n",
      "Ich habe folgenden Film gefunden: Inception\n",
      "\n",
      "\n",
      "Genres:\n",
      "\n",
      "Action\n",
      "Adventure\n",
      "Sci-Fi\n",
      "Thriller\n",
      "\n",
      "Handlung:\n",
      "A thief who steals corporate secrets through the use of dream-sharing technology is given the inverse task of planting an idea into the mind of a C.E.O.::ahmetkozan\n",
      "\n",
      "Schauspieler:\n",
      "\n",
      "Leonardo DiCaprio as Cobb\n",
      "Joseph Gordon-Levitt as Arthur\n",
      "Ellen Page as Ariadne\n",
      "Tom Hardy as Eames\n",
      "Ken Watanabe as Saito\n",
      "\n",
      "Regisseur: Christopher Nolan\n",
      "\n",
      "\n",
      "Erscheinungsdatum: 30 Jul 2010 (Austria)\n",
      "\n",
      "Ich bin bereit ...\n"
     ]
    },
    {
     "ename": "KeyboardInterrupt",
     "evalue": "",
     "output_type": "error",
     "traceback": [
      "\u001b[1;31m---------------------------------------------------------------------------\u001b[0m",
      "\u001b[1;31mKeyboardInterrupt\u001b[0m                         Traceback (most recent call last)",
      "\u001b[1;32m<ipython-input-40-b511f649ed9e>\u001b[0m in \u001b[0;36m<module>\u001b[1;34m\u001b[0m\n\u001b[0;32m     44\u001b[0m \u001b[1;33m\u001b[0m\u001b[0m\n\u001b[0;32m     45\u001b[0m \u001b[1;32mwhile\u001b[0m \u001b[0mrunning\u001b[0m\u001b[1;33m:\u001b[0m\u001b[1;33m\u001b[0m\u001b[1;33m\u001b[0m\u001b[0m\n\u001b[1;32m---> 46\u001b[1;33m     \u001b[0mprogram\u001b[0m\u001b[1;33m(\u001b[0m\u001b[1;33m)\u001b[0m\u001b[1;33m\u001b[0m\u001b[1;33m\u001b[0m\u001b[0m\n\u001b[0m",
      "\u001b[1;32m<ipython-input-40-b511f649ed9e>\u001b[0m in \u001b[0;36mprogram\u001b[1;34m()\u001b[0m\n\u001b[0;32m     12\u001b[0m     \u001b[1;32mwhile\u001b[0m \u001b[0mrunning\u001b[0m\u001b[1;33m:\u001b[0m\u001b[1;33m\u001b[0m\u001b[1;33m\u001b[0m\u001b[0m\n\u001b[0;32m     13\u001b[0m         \u001b[0mprint\u001b[0m\u001b[1;33m(\u001b[0m\u001b[1;34m\"Ich bin bereit ...\"\u001b[0m\u001b[1;33m)\u001b[0m\u001b[1;33m\u001b[0m\u001b[1;33m\u001b[0m\u001b[0m\n\u001b[1;32m---> 14\u001b[1;33m         \u001b[0mrequest\u001b[0m \u001b[1;33m=\u001b[0m \u001b[0mmic_recognition\u001b[0m\u001b[1;33m(\u001b[0m\u001b[0mrec\u001b[0m\u001b[1;33m,\u001b[0m \u001b[0mmic\u001b[0m\u001b[1;33m)\u001b[0m\u001b[1;33m\u001b[0m\u001b[1;33m\u001b[0m\u001b[0m\n\u001b[0m\u001b[0;32m     15\u001b[0m \u001b[1;33m\u001b[0m\u001b[0m\n\u001b[0;32m     16\u001b[0m         \u001b[1;31m# Check if the voice input has been recognized\u001b[0m\u001b[1;33m\u001b[0m\u001b[1;33m\u001b[0m\u001b[1;33m\u001b[0m\u001b[0m\n",
      "\u001b[1;32m<ipython-input-38-c589cca0dde5>\u001b[0m in \u001b[0;36mmic_recognition\u001b[1;34m(recognizer, microphone)\u001b[0m\n\u001b[0;32m     16\u001b[0m     \u001b[1;32mwith\u001b[0m \u001b[0mmicrophone\u001b[0m \u001b[1;32mas\u001b[0m \u001b[0msource\u001b[0m\u001b[1;33m:\u001b[0m\u001b[1;33m\u001b[0m\u001b[1;33m\u001b[0m\u001b[0m\n\u001b[0;32m     17\u001b[0m         \u001b[0mrecognizer\u001b[0m\u001b[1;33m.\u001b[0m\u001b[0madjust_for_ambient_noise\u001b[0m\u001b[1;33m(\u001b[0m\u001b[0msource\u001b[0m\u001b[1;33m,\u001b[0m \u001b[0mduration\u001b[0m\u001b[1;33m=\u001b[0m\u001b[1;36m0.5\u001b[0m\u001b[1;33m)\u001b[0m\u001b[1;33m\u001b[0m\u001b[1;33m\u001b[0m\u001b[0m\n\u001b[1;32m---> 18\u001b[1;33m         \u001b[0maudio_recorded\u001b[0m \u001b[1;33m=\u001b[0m \u001b[0mrecognizer\u001b[0m\u001b[1;33m.\u001b[0m\u001b[0mlisten\u001b[0m\u001b[1;33m(\u001b[0m\u001b[0msource\u001b[0m\u001b[1;33m)\u001b[0m\u001b[1;33m\u001b[0m\u001b[1;33m\u001b[0m\u001b[0m\n\u001b[0m\u001b[0;32m     19\u001b[0m     \u001b[1;32mtry\u001b[0m\u001b[1;33m:\u001b[0m\u001b[1;33m\u001b[0m\u001b[1;33m\u001b[0m\u001b[0m\n\u001b[0;32m     20\u001b[0m         \u001b[0mresponse\u001b[0m\u001b[1;33m[\u001b[0m\u001b[1;34m\"response_trans\"\u001b[0m\u001b[1;33m]\u001b[0m \u001b[1;33m=\u001b[0m \u001b[0mrecognizer\u001b[0m\u001b[1;33m.\u001b[0m\u001b[0mrecognize_google\u001b[0m\u001b[1;33m(\u001b[0m\u001b[0maudio_recorded\u001b[0m\u001b[1;33m,\u001b[0m \u001b[0mlanguage\u001b[0m \u001b[1;33m=\u001b[0m \u001b[1;34m\"de-DE\"\u001b[0m\u001b[1;33m)\u001b[0m\u001b[1;33m\u001b[0m\u001b[1;33m\u001b[0m\u001b[0m\n",
      "\u001b[1;32mc:\\users\\katbe\\appdata\\local\\programs\\python\\python38\\lib\\site-packages\\speech_recognition\\__init__.py\u001b[0m in \u001b[0;36mlisten\u001b[1;34m(self, source, timeout, phrase_time_limit, snowboy_configuration)\u001b[0m\n\u001b[0;32m    650\u001b[0m                     \u001b[1;32mbreak\u001b[0m\u001b[1;33m\u001b[0m\u001b[1;33m\u001b[0m\u001b[0m\n\u001b[0;32m    651\u001b[0m \u001b[1;33m\u001b[0m\u001b[0m\n\u001b[1;32m--> 652\u001b[1;33m                 \u001b[0mbuffer\u001b[0m \u001b[1;33m=\u001b[0m \u001b[0msource\u001b[0m\u001b[1;33m.\u001b[0m\u001b[0mstream\u001b[0m\u001b[1;33m.\u001b[0m\u001b[0mread\u001b[0m\u001b[1;33m(\u001b[0m\u001b[0msource\u001b[0m\u001b[1;33m.\u001b[0m\u001b[0mCHUNK\u001b[0m\u001b[1;33m)\u001b[0m\u001b[1;33m\u001b[0m\u001b[1;33m\u001b[0m\u001b[0m\n\u001b[0m\u001b[0;32m    653\u001b[0m                 \u001b[1;32mif\u001b[0m \u001b[0mlen\u001b[0m\u001b[1;33m(\u001b[0m\u001b[0mbuffer\u001b[0m\u001b[1;33m)\u001b[0m \u001b[1;33m==\u001b[0m \u001b[1;36m0\u001b[0m\u001b[1;33m:\u001b[0m \u001b[1;32mbreak\u001b[0m  \u001b[1;31m# reached end of the stream\u001b[0m\u001b[1;33m\u001b[0m\u001b[1;33m\u001b[0m\u001b[0m\n\u001b[0;32m    654\u001b[0m                 \u001b[0mframes\u001b[0m\u001b[1;33m.\u001b[0m\u001b[0mappend\u001b[0m\u001b[1;33m(\u001b[0m\u001b[0mbuffer\u001b[0m\u001b[1;33m)\u001b[0m\u001b[1;33m\u001b[0m\u001b[1;33m\u001b[0m\u001b[0m\n",
      "\u001b[1;32mc:\\users\\katbe\\appdata\\local\\programs\\python\\python38\\lib\\site-packages\\speech_recognition\\__init__.py\u001b[0m in \u001b[0;36mread\u001b[1;34m(self, size)\u001b[0m\n\u001b[0;32m    159\u001b[0m \u001b[1;33m\u001b[0m\u001b[0m\n\u001b[0;32m    160\u001b[0m         \u001b[1;32mdef\u001b[0m \u001b[0mread\u001b[0m\u001b[1;33m(\u001b[0m\u001b[0mself\u001b[0m\u001b[1;33m,\u001b[0m \u001b[0msize\u001b[0m\u001b[1;33m)\u001b[0m\u001b[1;33m:\u001b[0m\u001b[1;33m\u001b[0m\u001b[1;33m\u001b[0m\u001b[0m\n\u001b[1;32m--> 161\u001b[1;33m             \u001b[1;32mreturn\u001b[0m \u001b[0mself\u001b[0m\u001b[1;33m.\u001b[0m\u001b[0mpyaudio_stream\u001b[0m\u001b[1;33m.\u001b[0m\u001b[0mread\u001b[0m\u001b[1;33m(\u001b[0m\u001b[0msize\u001b[0m\u001b[1;33m,\u001b[0m \u001b[0mexception_on_overflow\u001b[0m\u001b[1;33m=\u001b[0m\u001b[1;32mFalse\u001b[0m\u001b[1;33m)\u001b[0m\u001b[1;33m\u001b[0m\u001b[1;33m\u001b[0m\u001b[0m\n\u001b[0m\u001b[0;32m    162\u001b[0m \u001b[1;33m\u001b[0m\u001b[0m\n\u001b[0;32m    163\u001b[0m         \u001b[1;32mdef\u001b[0m \u001b[0mclose\u001b[0m\u001b[1;33m(\u001b[0m\u001b[0mself\u001b[0m\u001b[1;33m)\u001b[0m\u001b[1;33m:\u001b[0m\u001b[1;33m\u001b[0m\u001b[1;33m\u001b[0m\u001b[0m\n",
      "\u001b[1;32mc:\\users\\katbe\\appdata\\local\\programs\\python\\python38\\lib\\site-packages\\pyaudio.py\u001b[0m in \u001b[0;36mread\u001b[1;34m(self, num_frames, exception_on_overflow)\u001b[0m\n\u001b[0;32m    606\u001b[0m                           paCanNotReadFromAnOutputOnlyStream)\n\u001b[0;32m    607\u001b[0m \u001b[1;33m\u001b[0m\u001b[0m\n\u001b[1;32m--> 608\u001b[1;33m         \u001b[1;32mreturn\u001b[0m \u001b[0mpa\u001b[0m\u001b[1;33m.\u001b[0m\u001b[0mread_stream\u001b[0m\u001b[1;33m(\u001b[0m\u001b[0mself\u001b[0m\u001b[1;33m.\u001b[0m\u001b[0m_stream\u001b[0m\u001b[1;33m,\u001b[0m \u001b[0mnum_frames\u001b[0m\u001b[1;33m,\u001b[0m \u001b[0mexception_on_overflow\u001b[0m\u001b[1;33m)\u001b[0m\u001b[1;33m\u001b[0m\u001b[1;33m\u001b[0m\u001b[0m\n\u001b[0m\u001b[0;32m    609\u001b[0m \u001b[1;33m\u001b[0m\u001b[0m\n\u001b[0;32m    610\u001b[0m     \u001b[1;32mdef\u001b[0m \u001b[0mget_read_available\u001b[0m\u001b[1;33m(\u001b[0m\u001b[0mself\u001b[0m\u001b[1;33m)\u001b[0m\u001b[1;33m:\u001b[0m\u001b[1;33m\u001b[0m\u001b[1;33m\u001b[0m\u001b[0m\n",
      "\u001b[1;31mKeyboardInterrupt\u001b[0m: "
     ]
    }
   ],
   "source": [
    "#############################################################\n",
    "# This is where the chat bot starts listening for any input #\n",
    "#############################################################\n",
    "\n",
    "def program():\n",
    "    # Setting the keyword and other helper variables to keep the program running\n",
    "    keyword = \"hallo alex\"\n",
    "    success = False\n",
    "    running = True\n",
    "    \n",
    "    # Program listens for the keyword to start an interaction with the user\n",
    "    while running:\n",
    "        print(\"Ich bin bereit ...\")\n",
    "        request = mic_recognition(rec, mic)\n",
    "\n",
    "        # Check if the voice input has been recognized\n",
    "        if request[\"error\"] is None:\n",
    "            if request[\"response_trans\"].lower() == keyword:\n",
    "                success = True\n",
    "                \n",
    "                if debug_mode == True:\n",
    "                    print(\"DEBUG 1: Recognized keyword\")\n",
    "                \n",
    "                break\n",
    "            else:\n",
    "                print(\"ERROR: I understood: {}\".format(request[\"response_trans\"].lower()))\n",
    "\n",
    "    # Now that the keyword has been recognized (or not) the user interaction begins\n",
    "    if success is True and running is True:\n",
    "        \n",
    "        if debug_mode == True:\n",
    "            print(\"DEBUG 2: Entering activate_speechrec function\")\n",
    "        \n",
    "        activate_speechrec()\n",
    "    \n",
    "    else:\n",
    "        print(request[\"error\"])\n",
    "        error_message()\n",
    "\n",
    "        \n",
    "############################################################\n",
    "# This keeps the program running until someone force quits #\n",
    "############################################################\n",
    "\n",
    "while running:\n",
    "    program()"
   ]
  }
 ],
 "metadata": {
  "anaconda-cloud": {},
  "kernelspec": {
   "display_name": "Python 3",
   "language": "python",
   "name": "python3"
  },
  "language_info": {
   "codemirror_mode": {
    "name": "ipython",
    "version": 3
   },
   "file_extension": ".py",
   "mimetype": "text/x-python",
   "name": "python",
   "nbconvert_exporter": "python",
   "pygments_lexer": "ipython3",
   "version": "3.7.3"
  },
  "pycharm": {
   "stem_cell": {
    "cell_type": "raw",
    "metadata": {
     "collapsed": false
    },
    "source": []
   }
  }
 },
 "nbformat": 4,
 "nbformat_minor": 1
}
