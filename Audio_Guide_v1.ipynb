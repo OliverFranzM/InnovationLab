{
 "cells": [
  {
   "cell_type": "markdown",
   "metadata": {},
   "source": [
    "# 1. Documentation\n",
    "\n",
    "## Version 1:\n",
    "- Program base (voice activation and audio response)"
   ]
  },
  {
   "cell_type": "markdown",
   "metadata": {},
   "source": [
    "## Libraries\n",
    "\n",
    "- SpeechRecognition: to recognize audio input\n",
    "- PyAudio: for audio I/O\n",
    "- Requests: to send http requests\n",
    "- Playsound: to play audio files (not necessary)\n",
    "- gTTS: for voice recognition and audio response on the robot's side\n",
    "- IMDbPy: for imdb search queries\n",
    "- json: to parse json files"
   ]
  },
  {
   "cell_type": "code",
   "execution_count": 94,
   "metadata": {
    "scrolled": true
   },
   "outputs": [],
   "source": [
    "import speech_recognition as sr\n",
    "from IPython.display import *\n",
    "from gtts import gTTS\n",
    "import os\n",
    "from playsound import playsound\n",
    "import datetime\n",
    "from datetime import date\n",
    "import webbrowser\n",
    "import time\n",
    "import json\n",
    "import requests\n",
    "import imdb\n",
    "import random\n",
    "import urllib3"
   ]
  },
  {
   "cell_type": "code",
   "execution_count": 95,
   "metadata": {},
   "outputs": [],
   "source": [
    "urllib3.disable_warnings()\n",
    "\n",
    "if os.path.isfile('ready.mp3'):\n",
    "    os.remove(\"ready.mp3\")\n",
    "\n",
    "if os.path.isfile('response.mp3'):\n",
    "    os.remove(\"response.mp3\")\n",
    "if os.path.isfile('hello.mp3'):\n",
    "    os.remove(\"hello.mp3\")"
   ]
  },
  {
   "cell_type": "markdown",
   "metadata": {},
   "source": [
    "# 2. Functions"
   ]
  },
  {
   "cell_type": "markdown",
   "metadata": {
    "collapsed": true
   },
   "source": [
    "### Basic functions"
   ]
  },
  {
   "cell_type": "code",
   "execution_count": 96,
   "metadata": {
    "scrolled": true
   },
   "outputs": [],
   "source": [
    "def error_message():\n",
    "    tts = gTTS(text='Ich habe Sie nicht richtig verstanden. Beginnen wir noch mal von vorne.', lang='de')\n",
    "    # check if the file already exists, if so just play it (if not save it and then play it)\n",
    "    if os.path.isfile('error.mp3'):\n",
    "        playsound(\"error.mp3\")\n",
    "    else:\n",
    "        tts.save(\"error.mp3\")\n",
    "        playsound(\"error.mp3\")\n",
    "    \n",
    "    print(\"ERROR: Ihr Audio-Guide ist verwirrt!\")"
   ]
  },
  {
   "cell_type": "code",
   "execution_count": 97,
   "metadata": {
    "scrolled": true
   },
   "outputs": [],
   "source": [
    "def welcome():\n",
    "    tts = gTTS(text='Herzlich willkommen! Mein Name ist Alex und ich bin Ihr Audio-Guide. In kürze können Sie sich über die jeweiligen Stationen informieren.', lang='de')\n",
    "    # check if the file already exists, if so just play it (if not save it and then play it)\n",
    "    if os.path.isfile('hello.mp3'):\n",
    "        playsound(\"hello.mp3\")\n",
    "    else:\n",
    "        tts.save(\"hello.mp3\")\n",
    "        playsound(\"hello.mp3\")"
   ]
  },
  {
   "cell_type": "code",
   "execution_count": 98,
   "metadata": {},
   "outputs": [],
   "source": [
    "def ready():\n",
    "    tts = gTTS(text='Wie kann ich Ihnen behilflich sein? Über welche Station hätten Sie gerne Informationen?', lang='de')\n",
    "    # check if the file already exists, if so just play it (if not save it and then play it)\n",
    "    if os.path.isfile('ready.mp3'):\n",
    "        playsound(\"ready.mp3\")\n",
    "    else:\n",
    "        tts.save(\"ready.mp3\")\n",
    "        playsound(\"ready.mp3\")"
   ]
  },
  {
   "cell_type": "markdown",
   "metadata": {},
   "source": [
    "### Intent pool\n",
    "The program looks at the json file to check if a voice command fits the programs intents"
   ]
  },
  {
   "cell_type": "code",
   "execution_count": 99,
   "metadata": {},
   "outputs": [],
   "source": [
    "def intents(req):\n",
    "    # debugging:\n",
    "    print(\"DEBUG 6: In intents function\")\n",
    "    # can only play one response - maybe deleting the file again and creating it when needed will help\n",
    "    print(\"DEBUG 7: Deleting previous responses\")\n",
    "    if os.path.isfile('resonse.mp3'):\n",
    "        os.remove(\"response.mp3\")\n",
    "        \n",
    "    # open json file\n",
    "    with open('intents.json') as json_file:\n",
    "        # load json file\n",
    "        data = json.load(json_file)\n",
    "\n",
    "        # debugging:\n",
    "        print(\"DEBUG 8: Looking through intents in the json file\")\n",
    "        \n",
    "        # go through intents\n",
    "        for i in data['intents']:\n",
    "            # find the right request\n",
    "            for p in i['patterns']:\n",
    "                if req == p.lower():\n",
    "                    # debugging:\n",
    "                    print(\"DEBUG 9: Request matches intent. Looking for response\")\n",
    "                    \n",
    "                    # pick a randomized response for that request\n",
    "                    count = 0\n",
    "                    for resp in i['responses']:\n",
    "                        count += 1\n",
    "                        \n",
    "                    index = random.randint(0, count-1)\n",
    "                    \n",
    "                    # debugging:\n",
    "                    print(\"DEBUG 10: Found a response. About to send it to tts\")\n",
    "                    \n",
    "                    response = i['responses'][index]\n",
    "                    tts = gTTS(response, lang='de')\n",
    "                    \n",
    "                    # debugging:\n",
    "                    print(\"DEBUG 11: This is the response i should give the user\")\n",
    "                    print(response)\n",
    "                    \n",
    "                    ##################################################################################################\n",
    "                    ## PROBLEM: ##\n",
    "                    # I can save the first time after a request but not the 2nd time around. The previous response.mp3 \n",
    "                    # file should have been deleted so that can't be the issue\n",
    "                    ##################################################################################################\n",
    "                    \n",
    "                    tts.save(\"response.mp3\")\n",
    "                    playsound(\"response.mp3\")\n",
    "                    \n",
    "                    # can only play one response - maybe deleting the file again and creating it when needed will help\n",
    "                    print(\"DEBUG 12: Deleting previous responses again\")\n",
    "                    if os.path.isfile('resonse.mp3'):\n",
    "                        os.remove(\"response.mp3\")\n",
    "                    \n",
    "                    # if the user wishes to exit the program\n",
    "                    if response == \"Auf Wiedersehen! Ich hoffe ich konnte Ihnen behilflich sein.\" or response == \"Ich hoffe Sie haben noch einen wundervollen Tag!\":\n",
    "                        tts = gTTS(response, lang='de')\n",
    "                        tts.save(\"response.mp3\")\n",
    "                        playsound(\"response.mp3\")\n",
    "                        return False\n",
    "        \n",
    "        \n",
    "        # TO-DO: Respond when the request doesn't fit without breaking the code :))))\n",
    "        \n",
    "        \n",
    "        # tts = gTTS('Verzeihung, aber ich verstehe Ihre Anfrage nicht. Probieren wir es nochmals von Anfang an!', lang='de')\n",
    "                    \n",
    "        # can only play one response - maybe deleting the file again and creating it when needed will help\n",
    "        # print(\"DEBUG 13: Deleting previous responses\")\n",
    "        # if os.path.isfile('resonse.mp3'):\n",
    "            # os.remove(\"response.mp3\")\n",
    "                        \n",
    "        # tts.save(\"response.mp3\")\n",
    "        # playsound(\"response.mp3\")\n",
    "        \n",
    "        return True\n",
    "\n",
    "        "
   ]
  },
  {
   "cell_type": "markdown",
   "metadata": {},
   "source": [
    "# 3. Speech recognition"
   ]
  },
  {
   "cell_type": "markdown",
   "metadata": {},
   "source": [
    "### Audio/input parser\n",
    "Record audio and send it to Google's API to parse/\"translate\""
   ]
  },
  {
   "cell_type": "code",
   "execution_count": 100,
   "metadata": {
    "scrolled": true
   },
   "outputs": [],
   "source": [
    "#make a recognizer query while checking for different errors and return an according response \n",
    "def mic_recognition(recognizer, microphone):\n",
    "    if not isinstance(recognizer, sr.Recognizer):\n",
    "        raise TypeError(\"`recognizer` must be `Recognizer` instance\")\n",
    "\n",
    "    if not isinstance(microphone, sr.Microphone):\n",
    "        raise TypeError(\"`microphone` must be `Microphone` instance\")\n",
    "        \n",
    "    response = {\n",
    "      \"response_trans\": None,\n",
    "      \"error\": None\n",
    "    }\n",
    "    with microphone as source:\n",
    "        recognizer.adjust_for_ambient_noise(source, duration=0.5)\n",
    "        audio_recorded = recognizer.listen(source)\n",
    "    try:\n",
    "        response[\"response_trans\"] = recognizer.recognize_google(audio_recorded, language = \"de-DE\")\n",
    "    except sr.RequestError:\n",
    "        #API was unreachable or unresponsive\n",
    "        response[\"error\"] = \"ERROR: Die API ist nicht verfügbar.\"\n",
    "    except sr.UnknownValueError:\n",
    "        #speech was unintelligible\n",
    "        response[\"error\"] = \"ERROR: Der Audio-Guide konnte den Sprach-Input nicht verstehen.\"\n",
    "        \n",
    "    return response"
   ]
  },
  {
   "cell_type": "markdown",
   "metadata": {},
   "source": [
    "### Speech recognition\n",
    "Immediate interaction with the robot takes place here. The program takes the received input and checks if said input can be found in its intent pool"
   ]
  },
  {
   "cell_type": "code",
   "execution_count": 101,
   "metadata": {
    "scrolled": true
   },
   "outputs": [],
   "source": [
    "def activate_speechrec():\n",
    "    # debugging:\n",
    "    print(\"DEBUG 3: In activate_speechrec. Sending welcome message\")\n",
    "    \n",
    "    welcome()\n",
    "    talking = True\n",
    "    while(talking):\n",
    "        ready()\n",
    "        \n",
    "        # debugging:\n",
    "        print(\"DEBUG 4: In activate_speechrec while loop. Ready for request.\")\n",
    "        \n",
    "        request = mic_recognition(rec, mic)\n",
    "        if request[\"error\"] is None:\n",
    "            \n",
    "            # debugging:\n",
    "            print(\"DEBUG 5: Got a request. Going into intents function\")\n",
    "            \n",
    "            retval = intents(request[\"response_trans\"].lower())\n",
    "            if retval == False:\n",
    "                continue\n",
    "        else:\n",
    "            print(request[\"error\"])\n",
    "            error_message()"
   ]
  },
  {
   "cell_type": "markdown",
   "metadata": {},
   "source": [
    "### Voice activation\n",
    "Activating robot interaction starts with the phrase \"hallo alex\""
   ]
  },
  {
   "cell_type": "code",
   "execution_count": 102,
   "metadata": {
    "scrolled": true
   },
   "outputs": [
    {
     "name": "stdout",
     "output_type": "stream",
     "text": [
      "DEBUG 1: Recognized keyword\n",
      "DEBUG 2: Entering activate_speechrec function\n",
      "DEBUG 3: In activate_speechrec. Sending welcome message\n",
      "DEBUG 4: In activate_speechrec while loop. Ready for request.\n",
      "DEBUG 5: Got a request. Going into intents function\n",
      "DEBUG 6: In intents function\n",
      "DEBUG 7: Deleting previous responses\n",
      "DEBUG 8: Looking through intents in the json file\n",
      "DEBUG 9: Request matches intent. Looking for response\n",
      "DEBUG 10: Found a response. About to send it to tts\n",
      "DEBUG 11: This is the response i should give the user\n",
      "Station Nummer drei kann ebenfalls etwas machen. Ich weiss zwar immer noch nicht was, aber es ist etwas!\n",
      "DEBUG 12: Deleting previous responses again\n",
      "DEBUG 4: In activate_speechrec while loop. Ready for request.\n",
      "DEBUG 5: Got a request. Going into intents function\n",
      "DEBUG 6: In intents function\n",
      "DEBUG 7: Deleting previous responses\n",
      "DEBUG 8: Looking through intents in the json file\n",
      "DEBUG 9: Request matches intent. Looking for response\n",
      "DEBUG 10: Found a response. About to send it to tts\n",
      "DEBUG 11: This is the response i should give the user\n",
      "Station Nummer zwei kann auch etwas machen. Ich weiss zwar nicht was, aber es ist etwas, versprochen!\n"
     ]
    },
    {
     "ename": "PermissionError",
     "evalue": "[Errno 13] Permission denied: 'response.mp3'",
     "output_type": "error",
     "traceback": [
      "\u001b[1;31m---------------------------------------------------------------------------\u001b[0m",
      "\u001b[1;31mPermissionError\u001b[0m                           Traceback (most recent call last)",
      "\u001b[1;32m<ipython-input-102-f1ec7e9d958a>\u001b[0m in \u001b[0;36m<module>\u001b[1;34m\u001b[0m\n\u001b[0;32m     25\u001b[0m     \u001b[1;31m# debugging:\u001b[0m\u001b[1;33m\u001b[0m\u001b[1;33m\u001b[0m\u001b[1;33m\u001b[0m\u001b[0m\n\u001b[0;32m     26\u001b[0m     \u001b[0mprint\u001b[0m\u001b[1;33m(\u001b[0m\u001b[1;34m\"DEBUG 2: Entering activate_speechrec function\"\u001b[0m\u001b[1;33m)\u001b[0m\u001b[1;33m\u001b[0m\u001b[1;33m\u001b[0m\u001b[0m\n\u001b[1;32m---> 27\u001b[1;33m     \u001b[0mactivate_speechrec\u001b[0m\u001b[1;33m(\u001b[0m\u001b[1;33m)\u001b[0m\u001b[1;33m\u001b[0m\u001b[1;33m\u001b[0m\u001b[0m\n\u001b[0m\u001b[0;32m     28\u001b[0m \u001b[1;32melse\u001b[0m\u001b[1;33m:\u001b[0m\u001b[1;33m\u001b[0m\u001b[1;33m\u001b[0m\u001b[0m\n\u001b[0;32m     29\u001b[0m     \u001b[0mprint\u001b[0m\u001b[1;33m(\u001b[0m\u001b[0mrequest\u001b[0m\u001b[1;33m[\u001b[0m\u001b[1;34m\"error\"\u001b[0m\u001b[1;33m]\u001b[0m\u001b[1;33m)\u001b[0m\u001b[1;33m\u001b[0m\u001b[1;33m\u001b[0m\u001b[0m\n",
      "\u001b[1;32m<ipython-input-101-54b3bd8bb138>\u001b[0m in \u001b[0;36mactivate_speechrec\u001b[1;34m()\u001b[0m\n\u001b[0;32m     17\u001b[0m             \u001b[0mprint\u001b[0m\u001b[1;33m(\u001b[0m\u001b[1;34m\"DEBUG 5: Got a request. Going into intents function\"\u001b[0m\u001b[1;33m)\u001b[0m\u001b[1;33m\u001b[0m\u001b[1;33m\u001b[0m\u001b[0m\n\u001b[0;32m     18\u001b[0m \u001b[1;33m\u001b[0m\u001b[0m\n\u001b[1;32m---> 19\u001b[1;33m             \u001b[0mretval\u001b[0m \u001b[1;33m=\u001b[0m \u001b[0mintents\u001b[0m\u001b[1;33m(\u001b[0m\u001b[0mrequest\u001b[0m\u001b[1;33m[\u001b[0m\u001b[1;34m\"response_trans\"\u001b[0m\u001b[1;33m]\u001b[0m\u001b[1;33m.\u001b[0m\u001b[0mlower\u001b[0m\u001b[1;33m(\u001b[0m\u001b[1;33m)\u001b[0m\u001b[1;33m)\u001b[0m\u001b[1;33m\u001b[0m\u001b[1;33m\u001b[0m\u001b[0m\n\u001b[0m\u001b[0;32m     20\u001b[0m             \u001b[1;32mif\u001b[0m \u001b[0mretval\u001b[0m \u001b[1;33m==\u001b[0m \u001b[1;32mFalse\u001b[0m\u001b[1;33m:\u001b[0m\u001b[1;33m\u001b[0m\u001b[1;33m\u001b[0m\u001b[0m\n\u001b[0;32m     21\u001b[0m                 \u001b[1;32mcontinue\u001b[0m\u001b[1;33m\u001b[0m\u001b[1;33m\u001b[0m\u001b[0m\n",
      "\u001b[1;32m<ipython-input-99-f1db05377afd>\u001b[0m in \u001b[0;36mintents\u001b[1;34m(req)\u001b[0m\n\u001b[0;32m     40\u001b[0m                     \u001b[0mprint\u001b[0m\u001b[1;33m(\u001b[0m\u001b[0mresponse\u001b[0m\u001b[1;33m)\u001b[0m\u001b[1;33m\u001b[0m\u001b[1;33m\u001b[0m\u001b[0m\n\u001b[0;32m     41\u001b[0m \u001b[1;33m\u001b[0m\u001b[0m\n\u001b[1;32m---> 42\u001b[1;33m                     \u001b[0mtts\u001b[0m\u001b[1;33m.\u001b[0m\u001b[0msave\u001b[0m\u001b[1;33m(\u001b[0m\u001b[1;34m\"response.mp3\"\u001b[0m\u001b[1;33m)\u001b[0m\u001b[1;33m\u001b[0m\u001b[1;33m\u001b[0m\u001b[0m\n\u001b[0m\u001b[0;32m     43\u001b[0m                     \u001b[0mplaysound\u001b[0m\u001b[1;33m(\u001b[0m\u001b[1;34m\"response.mp3\"\u001b[0m\u001b[1;33m)\u001b[0m\u001b[1;33m\u001b[0m\u001b[1;33m\u001b[0m\u001b[0m\n\u001b[0;32m     44\u001b[0m \u001b[1;33m\u001b[0m\u001b[0m\n",
      "\u001b[1;32mc:\\users\\katbe\\appdata\\local\\programs\\python\\python38\\lib\\site-packages\\gtts\\tts.py\u001b[0m in \u001b[0;36msave\u001b[1;34m(self, savefile)\u001b[0m\n\u001b[0;32m    292\u001b[0m \u001b[1;33m\u001b[0m\u001b[0m\n\u001b[0;32m    293\u001b[0m         \"\"\"\n\u001b[1;32m--> 294\u001b[1;33m         \u001b[1;32mwith\u001b[0m \u001b[0mopen\u001b[0m\u001b[1;33m(\u001b[0m\u001b[0mstr\u001b[0m\u001b[1;33m(\u001b[0m\u001b[0msavefile\u001b[0m\u001b[1;33m)\u001b[0m\u001b[1;33m,\u001b[0m \u001b[1;34m'wb'\u001b[0m\u001b[1;33m)\u001b[0m \u001b[1;32mas\u001b[0m \u001b[0mf\u001b[0m\u001b[1;33m:\u001b[0m\u001b[1;33m\u001b[0m\u001b[1;33m\u001b[0m\u001b[0m\n\u001b[0m\u001b[0;32m    295\u001b[0m             \u001b[0mself\u001b[0m\u001b[1;33m.\u001b[0m\u001b[0mwrite_to_fp\u001b[0m\u001b[1;33m(\u001b[0m\u001b[0mf\u001b[0m\u001b[1;33m)\u001b[0m\u001b[1;33m\u001b[0m\u001b[1;33m\u001b[0m\u001b[0m\n\u001b[0;32m    296\u001b[0m             \u001b[0mlog\u001b[0m\u001b[1;33m.\u001b[0m\u001b[0mdebug\u001b[0m\u001b[1;33m(\u001b[0m\u001b[1;34m\"Saved to %s\"\u001b[0m\u001b[1;33m,\u001b[0m \u001b[0msavefile\u001b[0m\u001b[1;33m)\u001b[0m\u001b[1;33m\u001b[0m\u001b[1;33m\u001b[0m\u001b[0m\n",
      "\u001b[1;31mPermissionError\u001b[0m: [Errno 13] Permission denied: 'response.mp3'"
     ]
    }
   ],
   "source": [
    "keyword = \"hallo alex\"\n",
    "success = False\n",
    "\n",
    "#Initialize recognizer instance and a microphone as a source\n",
    "rec = sr.Recognizer()\n",
    "mic = sr.Microphone()\n",
    "#try 2 times to get the correct keyword\n",
    "#for i in range (2):\n",
    "\n",
    "#could say while(1) to listen endlessly until notebook is closed?\n",
    "while(1):\n",
    "    request = mic_recognition(rec, mic)\n",
    "#check if voice was recognized\n",
    "    if request[\"error\"] is None:\n",
    "        if request[\"response_trans\"].lower() == keyword:\n",
    "            success = True\n",
    "            \n",
    "            # debugging:\n",
    "            print(\"DEBUG 1: Recognized keyword\")\n",
    "            break\n",
    "\n",
    "#now you can speak to the bot\n",
    "if success is True:\n",
    "    \n",
    "    # debugging:\n",
    "    print(\"DEBUG 2: Entering activate_speechrec function\")\n",
    "    activate_speechrec()\n",
    "else:\n",
    "    print(request[\"error\"])\n",
    "    error_message()"
   ]
  },
  {
   "cell_type": "code",
   "execution_count": null,
   "metadata": {},
   "outputs": [],
   "source": []
  }
 ],
 "metadata": {
  "anaconda-cloud": {},
  "kernelspec": {
   "display_name": "Python 3",
   "language": "python",
   "name": "python3"
  },
  "language_info": {
   "codemirror_mode": {
    "name": "ipython",
    "version": 3
   },
   "file_extension": ".py",
   "mimetype": "text/x-python",
   "name": "python",
   "nbconvert_exporter": "python",
   "pygments_lexer": "ipython3",
   "version": "3.8.2"
  }
 },
 "nbformat": 4,
 "nbformat_minor": 1
}
