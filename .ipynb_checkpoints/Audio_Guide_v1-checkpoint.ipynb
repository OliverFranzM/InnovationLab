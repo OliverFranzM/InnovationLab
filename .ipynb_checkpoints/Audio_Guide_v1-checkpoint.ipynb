{
 "cells": [
  {
   "cell_type": "markdown",
   "metadata": {},
   "source": [
    "# 1. Documentation\n",
    "\n",
    "## Version 1:\n",
    "- Program base (voice activation and audio response)"
   ]
  },
  {
   "cell_type": "markdown",
   "metadata": {},
   "source": [
    "## Libraries\n",
    "\n",
    "- SpeechRecognition: to recognize audio input\n",
    "- PyAudio: for audio I/O\n",
    "- Requests: to send http requests\n",
    "- Playsound: to play audio files (not necessary)\n",
    "- gTTS: for voice recognition and audio response on the robot's side\n",
    "- IMDbPy: for imdb search queries\n",
    "- json: to parse json files"
   ]
  },
  {
   "cell_type": "code",
   "execution_count": 34,
   "metadata": {
    "scrolled": true
   },
   "outputs": [],
   "source": [
    "import speech_recognition as sr\n",
    "from IPython.display import *\n",
    "from gtts import gTTS\n",
    "import os\n",
    "from playsound import playsound\n",
    "import datetime\n",
    "from datetime import date\n",
    "import webbrowser\n",
    "import time\n",
    "import json\n",
    "import requests\n",
    "import imdb\n",
    "import random\n",
    "\n",
    "import urllib3\n",
    "urllib3.disable_warnings()"
   ]
  },
  {
   "cell_type": "markdown",
   "metadata": {},
   "source": [
    "# 2. Functions"
   ]
  },
  {
   "cell_type": "markdown",
   "metadata": {
    "collapsed": true
   },
   "source": [
    "### Basic functions"
   ]
  },
  {
   "cell_type": "code",
   "execution_count": 35,
   "metadata": {
    "scrolled": true
   },
   "outputs": [],
   "source": [
    "def error_message():\n",
    "    tts = gTTS(text='Ich habe Sie nicht richtig verstanden. Beginnen wir noch mal von vorne.', lang='de')\n",
    "    # check if the file already exists, if so just play it (if not save it and then play it)\n",
    "    if os.path.isfile('error.mp3'):\n",
    "        playsound(\"error.mp3\")\n",
    "    else:\n",
    "        tts.save(\"error.mp3\")\n",
    "        playsound(\"error.mp3\")\n",
    "    \n",
    "    print(\"ERROR: Ihr Audio-Guide ist verwirrt!\")"
   ]
  },
  {
   "cell_type": "code",
   "execution_count": 36,
   "metadata": {
    "scrolled": true
   },
   "outputs": [],
   "source": [
    "def welcome():\n",
    "    tts = gTTS(text='Willkommen! Mein Name ist Alex und ich bin Ihr Audio-Guide. In kürze können Sie sich über die jeweiligen Stationen erkundigen.', lang='de')\n",
    "    # check if the file already exists, if so just play it (if not save it and then play it)\n",
    "    if os.path.isfile('hello.mp3'):\n",
    "        playsound(\"hello.mp3\")\n",
    "    else:\n",
    "        tts.save(\"hello.mp3\")\n",
    "        playsound(\"hello.mp3\")"
   ]
  },
  {
   "cell_type": "code",
   "execution_count": 37,
   "metadata": {},
   "outputs": [],
   "source": [
    "def ready():\n",
    "    tts = gTTS(text='Ich bin bereit für Ihre Anfrage. Über welche Station hätten Sie gerne Informationen?', lang='de')\n",
    "    # check if the file already exists, if so just play it (if not save it and then play it)\n",
    "    if os.path.isfile('ready.mp3'):\n",
    "        playsound(\"ready.mp3\")\n",
    "    else:\n",
    "        tts.save(\"ready.mp3\")\n",
    "        playsound(\"ready.mp3\")"
   ]
  },
  {
   "cell_type": "markdown",
   "metadata": {},
   "source": [
    "### Intent pool\n",
    "The program looks at the json file to check if a voice command fits the programs intents"
   ]
  },
  {
   "cell_type": "code",
   "execution_count": 38,
   "metadata": {},
   "outputs": [],
   "source": [
    "def intents(req):\n",
    "    # open json file\n",
    "    with open('intents.json') as json_file:\n",
    "        # load json file\n",
    "        data = json.load(json_file)\n",
    "\n",
    "        # go through intents\n",
    "        for i in data['intents']:\n",
    "            # find the right request\n",
    "            for p in i['patterns']:\n",
    "                if req == p.lower():\n",
    "                    # pick a randomized response for that request\n",
    "                    count = 0\n",
    "                    for resp in i['responses']:\n",
    "                        count += 1\n",
    "                        \n",
    "                    index = random.randint(0, count-1)\n",
    "                    response = i['responses'][index]\n",
    "                    tts = gTTS(response, lang='de')\n",
    "                    \n",
    "                    # debugging:\n",
    "                    print(response)\n",
    "                    \n",
    "                    tts.save(\"response.mp3\")\n",
    "                    playsound(\"response.mp3\")\n",
    "                    \n",
    "                    # if the user wishes to exit the program\n",
    "                    if response == \"Auf Wiedersehen! Ich hoffe ich konnte Ihnen behilflich sein.\" or response == \"Ich hoffe Sie haben noch einen wundervollen Tag!\":\n",
    "                        tts = gTTS(response, lang='de')\n",
    "                        tts.save(\"response.mp3\")\n",
    "                        playsound(\"response.mp3\")\n",
    "                        return False\n",
    "                    #else:\n",
    "                        #tts = gTTS('Verzeihung, aber ich verstehe Ihre Anfrage nicht. Probieren wir es nochmals von Anfang an!', lang='de')\n",
    "                        #tts.save(\"response.mp3\")\n",
    "                        #playsound(\"response.mp3\")\n",
    "        return True\n",
    "\n",
    "        "
   ]
  },
  {
   "cell_type": "markdown",
   "metadata": {},
   "source": [
    "# 3. Speech recognition"
   ]
  },
  {
   "cell_type": "markdown",
   "metadata": {},
   "source": [
    "### Audio/input parser\n",
    "Record audio and send it to Google's API to parse/\"translate\""
   ]
  },
  {
   "cell_type": "code",
   "execution_count": 39,
   "metadata": {
    "scrolled": true
   },
   "outputs": [],
   "source": [
    "#make a recognizer query while checking for different errors and return an according response \n",
    "def mic_recognition(recognizer, microphone):\n",
    "    if not isinstance(recognizer, sr.Recognizer):\n",
    "        raise TypeError(\"`recognizer` must be `Recognizer` instance\")\n",
    "\n",
    "    if not isinstance(microphone, sr.Microphone):\n",
    "        raise TypeError(\"`microphone` must be `Microphone` instance\")\n",
    "        \n",
    "    response = {\n",
    "      \"response_trans\": None,\n",
    "      \"error\": None\n",
    "    }\n",
    "    with microphone as source:\n",
    "        recognizer.adjust_for_ambient_noise(source, duration=0.5)\n",
    "        audio_recorded = recognizer.listen(source)\n",
    "    try:\n",
    "        response[\"response_trans\"] = recognizer.recognize_google(audio_recorded, language = \"de-DE\")\n",
    "    except sr.RequestError:\n",
    "        #API was unreachable or unresponsive\n",
    "        response[\"error\"] = \"ERROR: Die API ist nicht verfügbar.\"\n",
    "    except sr.UnknownValueError:\n",
    "        #speech was unintelligible\n",
    "        response[\"error\"] = \"ERROR: Der Audio-Guide konnte den Sprach-Input nicht verstehen.\"\n",
    "        \n",
    "    return response"
   ]
  },
  {
   "cell_type": "markdown",
   "metadata": {},
   "source": [
    "### Speech recognition\n",
    "Immediate interaction with the robot takes place here. The program takes the received input and checks if said input can be found in its intent pool"
   ]
  },
  {
   "cell_type": "code",
   "execution_count": 40,
   "metadata": {
    "scrolled": true
   },
   "outputs": [],
   "source": [
    "def activate_speechrec():\n",
    "    welcome()\n",
    "    talking = True\n",
    "    while(talking):\n",
    "        ready()\n",
    "        request = mic_recognition(rec, mic)\n",
    "        if request[\"error\"] is None:\n",
    "            retval = intents(request[\"response_trans\"].lower())\n",
    "            if retval == False:\n",
    "                break\n",
    "        else:\n",
    "            print(request[\"error\"])\n",
    "            error_message()"
   ]
  },
  {
   "cell_type": "markdown",
   "metadata": {},
   "source": [
    "### Voice activation\n",
    "Activating robot interaction starts with the phrase \"hallo alex\""
   ]
  },
  {
   "cell_type": "code",
   "execution_count": 41,
   "metadata": {
    "scrolled": true
   },
   "outputs": [
    {
     "name": "stdout",
     "output_type": "stream",
     "text": [
      "nummer 1\n",
      "Station Nummer eins kann etwas machen. Ich bin zwar nicht sicher was, aber es ist etwas!\n"
     ]
    },
    {
     "ename": "AttributeError",
     "evalue": "'NoneType' object has no attribute 'lower'",
     "output_type": "error",
     "traceback": [
      "\u001b[1;31m---------------------------------------------------------------------------\u001b[0m",
      "\u001b[1;31mAttributeError\u001b[0m                            Traceback (most recent call last)",
      "\u001b[1;32m<ipython-input-41-5c6198598607>\u001b[0m in \u001b[0;36m<module>\u001b[1;34m\u001b[0m\n\u001b[0;32m     19\u001b[0m \u001b[1;31m#now you can speak to the bot\u001b[0m\u001b[1;33m\u001b[0m\u001b[1;33m\u001b[0m\u001b[1;33m\u001b[0m\u001b[0m\n\u001b[0;32m     20\u001b[0m \u001b[1;32mif\u001b[0m \u001b[0msuccess\u001b[0m \u001b[1;32mis\u001b[0m \u001b[1;32mTrue\u001b[0m\u001b[1;33m:\u001b[0m\u001b[1;33m\u001b[0m\u001b[1;33m\u001b[0m\u001b[0m\n\u001b[1;32m---> 21\u001b[1;33m     \u001b[0mactivate_speechrec\u001b[0m\u001b[1;33m(\u001b[0m\u001b[1;33m)\u001b[0m\u001b[1;33m\u001b[0m\u001b[1;33m\u001b[0m\u001b[0m\n\u001b[0m\u001b[0;32m     22\u001b[0m \u001b[1;32melse\u001b[0m\u001b[1;33m:\u001b[0m\u001b[1;33m\u001b[0m\u001b[1;33m\u001b[0m\u001b[0m\n\u001b[0;32m     23\u001b[0m     \u001b[0mprint\u001b[0m\u001b[1;33m(\u001b[0m\u001b[0mrequest\u001b[0m\u001b[1;33m[\u001b[0m\u001b[1;34m\"error\"\u001b[0m\u001b[1;33m]\u001b[0m\u001b[1;33m)\u001b[0m\u001b[1;33m\u001b[0m\u001b[1;33m\u001b[0m\u001b[0m\n",
      "\u001b[1;32m<ipython-input-40-91fadf27cbc0>\u001b[0m in \u001b[0;36mactivate_speechrec\u001b[1;34m()\u001b[0m\n\u001b[0;32m      5\u001b[0m         \u001b[0mready\u001b[0m\u001b[1;33m(\u001b[0m\u001b[1;33m)\u001b[0m\u001b[1;33m\u001b[0m\u001b[1;33m\u001b[0m\u001b[0m\n\u001b[0;32m      6\u001b[0m         \u001b[0mrequest\u001b[0m \u001b[1;33m=\u001b[0m \u001b[0mmic_recognition\u001b[0m\u001b[1;33m(\u001b[0m\u001b[0mrec\u001b[0m\u001b[1;33m,\u001b[0m \u001b[0mmic\u001b[0m\u001b[1;33m)\u001b[0m\u001b[1;33m\u001b[0m\u001b[1;33m\u001b[0m\u001b[0m\n\u001b[1;32m----> 7\u001b[1;33m         \u001b[0mprint\u001b[0m\u001b[1;33m(\u001b[0m\u001b[0mrequest\u001b[0m\u001b[1;33m[\u001b[0m\u001b[1;34m\"response_trans\"\u001b[0m\u001b[1;33m]\u001b[0m\u001b[1;33m.\u001b[0m\u001b[0mlower\u001b[0m\u001b[1;33m(\u001b[0m\u001b[1;33m)\u001b[0m\u001b[1;33m)\u001b[0m\u001b[1;33m\u001b[0m\u001b[1;33m\u001b[0m\u001b[0m\n\u001b[0m\u001b[0;32m      8\u001b[0m         \u001b[1;32mif\u001b[0m \u001b[0mrequest\u001b[0m\u001b[1;33m[\u001b[0m\u001b[1;34m\"error\"\u001b[0m\u001b[1;33m]\u001b[0m \u001b[1;32mis\u001b[0m \u001b[1;32mNone\u001b[0m\u001b[1;33m:\u001b[0m\u001b[1;33m\u001b[0m\u001b[1;33m\u001b[0m\u001b[0m\n\u001b[0;32m      9\u001b[0m             \u001b[0mretval\u001b[0m \u001b[1;33m=\u001b[0m \u001b[0mintents\u001b[0m\u001b[1;33m(\u001b[0m\u001b[0mrequest\u001b[0m\u001b[1;33m[\u001b[0m\u001b[1;34m\"response_trans\"\u001b[0m\u001b[1;33m]\u001b[0m\u001b[1;33m.\u001b[0m\u001b[0mlower\u001b[0m\u001b[1;33m(\u001b[0m\u001b[1;33m)\u001b[0m\u001b[1;33m)\u001b[0m\u001b[1;33m\u001b[0m\u001b[1;33m\u001b[0m\u001b[0m\n",
      "\u001b[1;31mAttributeError\u001b[0m: 'NoneType' object has no attribute 'lower'"
     ]
    }
   ],
   "source": [
    "keyword = \"hallo alex\"\n",
    "success = False\n",
    "\n",
    "#Initialize recognizer instance and a microphone as a source\n",
    "rec = sr.Recognizer()\n",
    "mic = sr.Microphone()\n",
    "#try 2 times to get the correct keyword\n",
    "#for i in range (2):\n",
    "\n",
    "#could say while(1) to listen endlessly until notebook is closed?\n",
    "while(1):\n",
    "    request = mic_recognition(rec, mic)\n",
    "#check if voice was recognized\n",
    "    if request[\"error\"] is None:\n",
    "        if request[\"response_trans\"].lower() == keyword:\n",
    "            success = True\n",
    "            break\n",
    "\n",
    "#now you can speak to the bot\n",
    "if success is True:\n",
    "    activate_speechrec()\n",
    "else:\n",
    "    print(request[\"error\"])\n",
    "    error_message()"
   ]
  },
  {
   "cell_type": "code",
   "execution_count": null,
   "metadata": {},
   "outputs": [],
   "source": []
  },
  {
   "cell_type": "code",
   "execution_count": null,
   "metadata": {},
   "outputs": [],
   "source": []
  },
  {
   "cell_type": "code",
   "execution_count": null,
   "metadata": {},
   "outputs": [],
   "source": []
  }
 ],
 "metadata": {
  "anaconda-cloud": {},
  "kernelspec": {
   "display_name": "Python 3",
   "language": "python",
   "name": "python3"
  }
 },
 "nbformat": 4,
 "nbformat_minor": 1
}
